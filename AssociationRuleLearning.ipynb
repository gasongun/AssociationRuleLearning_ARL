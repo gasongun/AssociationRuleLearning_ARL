{
  "cells": [
    {
      "cell_type": "markdown",
      "source": [
        "# Association Rule Learning\n",
        "\n",
        "This project aim is find a relation between the products and suggest right product combination to the buyers bu using online retail II dataset.\n",
        "\n",
        "We are going to follow the content below in this project:\n",
        "\n",
        "\n",
        "1. Importing Libraries & Data \n",
        "2. Data Preprocessing\n",
        "3. Preparation of Association Rules\n",
        "4. Suggestion a product to the buyers. "
      ],
      "metadata": {
        "id": "50spAhs2N72v"
      }
    },
    {
      "cell_type": "markdown",
      "source": [
        "## Import Libraries and Upload Dataset\n",
        "\n",
        "In association rule project, we're going to use apriori algorithm which is an algorithm that allows the implementation of Association Rules to detect products in the same basket. "
      ],
      "metadata": {
        "id": "0WE2Ra1BA1OA"
      }
    },
    {
      "cell_type": "code",
      "execution_count": null,
      "metadata": {
        "id": "hvvqyP-S4p0B"
      },
      "outputs": [],
      "source": [
        "import pandas as pd\n",
        "import os\n",
        "pd.set_option('display.max_columns', None)\n",
        "pd.set_option('display.width', 500)\n",
        "pd.set_option('display.expand_frame_repr', False)\n",
        "from mlxtend.frequent_patterns import apriori, association_rules"
      ]
    },
    {
      "cell_type": "markdown",
      "source": [
        "We create a function for excel datasets. We use google colab in the project, before we upload the dataset need a quick confuguration for drive usage."
      ],
      "metadata": {
        "id": "3pDgEAPxNtje"
      }
    },
    {
      "cell_type": "code",
      "source": [
        "def load_dataset(data):\n",
        "    path = os.getcwd()\n",
        "    sheet = input(\"Which sheet you want to open?\")\n",
        "    return pd.read_excel(path + '/' + data + \".xlsx\", sheet_name = sheet)\n",
        "  # sheet name is \"Year 2010-2011\""
      ],
      "metadata": {
        "id": "D_C4Yz16PMC1"
      },
      "execution_count": null,
      "outputs": []
    },
    {
      "cell_type": "code",
      "source": [
        "from google.colab import drive\n",
        "drive.mount('/content/drive')"
      ],
      "metadata": {
        "colab": {
          "base_uri": "https://localhost:8080/"
        },
        "id": "3gOd-kO7PQTW",
        "outputId": "a5011315-3923-4af8-977f-e83e93dc3fcd"
      },
      "execution_count": null,
      "outputs": [
        {
          "output_type": "stream",
          "name": "stdout",
          "text": [
            "Mounted at /content/drive\n"
          ]
        }
      ]
    },
    {
      "cell_type": "markdown",
      "source": [
        "We change the directory to data's directory get from automaticly."
      ],
      "metadata": {
        "id": "AZC2Ee_ELbAl"
      }
    },
    {
      "cell_type": "code",
      "execution_count": null,
      "metadata": {
        "id": "JreG21g3_2WT"
      },
      "outputs": [],
      "source": [
        "os.chdir('/content/drive/MyDrive/Python/VBO/')"
      ]
    },
    {
      "cell_type": "markdown",
      "source": [
        "Excel file has two sheet for the years that we choose the second sheet \"Year 2010-2011\""
      ],
      "metadata": {
        "id": "MfzSC4r3UWAp"
      }
    },
    {
      "cell_type": "code",
      "execution_count": null,
      "metadata": {
        "colab": {
          "base_uri": "https://localhost:8080/",
          "height": 224
        },
        "id": "lS3tCe4C4rdP",
        "outputId": "5370d503-3384-4746-ee5e-a27531ea997e"
      },
      "outputs": [
        {
          "name": "stdout",
          "output_type": "stream",
          "text": [
            "Which sheet you want to open?Year 2010-2011\n"
          ]
        },
        {
          "output_type": "execute_result",
          "data": {
            "text/plain": [
              "  Invoice StockCode                          Description  Quantity         InvoiceDate  Price  Customer ID         Country\n",
              "0  536365    85123A   WHITE HANGING HEART T-LIGHT HOLDER         6 2010-12-01 08:26:00   2.55      17850.0  United Kingdom\n",
              "1  536365     71053                  WHITE METAL LANTERN         6 2010-12-01 08:26:00   3.39      17850.0  United Kingdom\n",
              "2  536365    84406B       CREAM CUPID HEARTS COAT HANGER         8 2010-12-01 08:26:00   2.75      17850.0  United Kingdom\n",
              "3  536365    84029G  KNITTED UNION FLAG HOT WATER BOTTLE         6 2010-12-01 08:26:00   3.39      17850.0  United Kingdom\n",
              "4  536365    84029E       RED WOOLLY HOTTIE WHITE HEART.         6 2010-12-01 08:26:00   3.39      17850.0  United Kingdom"
            ],
            "text/html": [
              "\n",
              "  <div id=\"df-34b2f486-ad5f-4a6d-ad21-95086eb2e783\">\n",
              "    <div class=\"colab-df-container\">\n",
              "      <div>\n",
              "<style scoped>\n",
              "    .dataframe tbody tr th:only-of-type {\n",
              "        vertical-align: middle;\n",
              "    }\n",
              "\n",
              "    .dataframe tbody tr th {\n",
              "        vertical-align: top;\n",
              "    }\n",
              "\n",
              "    .dataframe thead th {\n",
              "        text-align: right;\n",
              "    }\n",
              "</style>\n",
              "<table border=\"1\" class=\"dataframe\">\n",
              "  <thead>\n",
              "    <tr style=\"text-align: right;\">\n",
              "      <th></th>\n",
              "      <th>Invoice</th>\n",
              "      <th>StockCode</th>\n",
              "      <th>Description</th>\n",
              "      <th>Quantity</th>\n",
              "      <th>InvoiceDate</th>\n",
              "      <th>Price</th>\n",
              "      <th>Customer ID</th>\n",
              "      <th>Country</th>\n",
              "    </tr>\n",
              "  </thead>\n",
              "  <tbody>\n",
              "    <tr>\n",
              "      <th>0</th>\n",
              "      <td>536365</td>\n",
              "      <td>85123A</td>\n",
              "      <td>WHITE HANGING HEART T-LIGHT HOLDER</td>\n",
              "      <td>6</td>\n",
              "      <td>2010-12-01 08:26:00</td>\n",
              "      <td>2.55</td>\n",
              "      <td>17850.0</td>\n",
              "      <td>United Kingdom</td>\n",
              "    </tr>\n",
              "    <tr>\n",
              "      <th>1</th>\n",
              "      <td>536365</td>\n",
              "      <td>71053</td>\n",
              "      <td>WHITE METAL LANTERN</td>\n",
              "      <td>6</td>\n",
              "      <td>2010-12-01 08:26:00</td>\n",
              "      <td>3.39</td>\n",
              "      <td>17850.0</td>\n",
              "      <td>United Kingdom</td>\n",
              "    </tr>\n",
              "    <tr>\n",
              "      <th>2</th>\n",
              "      <td>536365</td>\n",
              "      <td>84406B</td>\n",
              "      <td>CREAM CUPID HEARTS COAT HANGER</td>\n",
              "      <td>8</td>\n",
              "      <td>2010-12-01 08:26:00</td>\n",
              "      <td>2.75</td>\n",
              "      <td>17850.0</td>\n",
              "      <td>United Kingdom</td>\n",
              "    </tr>\n",
              "    <tr>\n",
              "      <th>3</th>\n",
              "      <td>536365</td>\n",
              "      <td>84029G</td>\n",
              "      <td>KNITTED UNION FLAG HOT WATER BOTTLE</td>\n",
              "      <td>6</td>\n",
              "      <td>2010-12-01 08:26:00</td>\n",
              "      <td>3.39</td>\n",
              "      <td>17850.0</td>\n",
              "      <td>United Kingdom</td>\n",
              "    </tr>\n",
              "    <tr>\n",
              "      <th>4</th>\n",
              "      <td>536365</td>\n",
              "      <td>84029E</td>\n",
              "      <td>RED WOOLLY HOTTIE WHITE HEART.</td>\n",
              "      <td>6</td>\n",
              "      <td>2010-12-01 08:26:00</td>\n",
              "      <td>3.39</td>\n",
              "      <td>17850.0</td>\n",
              "      <td>United Kingdom</td>\n",
              "    </tr>\n",
              "  </tbody>\n",
              "</table>\n",
              "</div>\n",
              "      <button class=\"colab-df-convert\" onclick=\"convertToInteractive('df-34b2f486-ad5f-4a6d-ad21-95086eb2e783')\"\n",
              "              title=\"Convert this dataframe to an interactive table.\"\n",
              "              style=\"display:none;\">\n",
              "        \n",
              "  <svg xmlns=\"http://www.w3.org/2000/svg\" height=\"24px\"viewBox=\"0 0 24 24\"\n",
              "       width=\"24px\">\n",
              "    <path d=\"M0 0h24v24H0V0z\" fill=\"none\"/>\n",
              "    <path d=\"M18.56 5.44l.94 2.06.94-2.06 2.06-.94-2.06-.94-.94-2.06-.94 2.06-2.06.94zm-11 1L8.5 8.5l.94-2.06 2.06-.94-2.06-.94L8.5 2.5l-.94 2.06-2.06.94zm10 10l.94 2.06.94-2.06 2.06-.94-2.06-.94-.94-2.06-.94 2.06-2.06.94z\"/><path d=\"M17.41 7.96l-1.37-1.37c-.4-.4-.92-.59-1.43-.59-.52 0-1.04.2-1.43.59L10.3 9.45l-7.72 7.72c-.78.78-.78 2.05 0 2.83L4 21.41c.39.39.9.59 1.41.59.51 0 1.02-.2 1.41-.59l7.78-7.78 2.81-2.81c.8-.78.8-2.07 0-2.86zM5.41 20L4 18.59l7.72-7.72 1.47 1.35L5.41 20z\"/>\n",
              "  </svg>\n",
              "      </button>\n",
              "      \n",
              "  <style>\n",
              "    .colab-df-container {\n",
              "      display:flex;\n",
              "      flex-wrap:wrap;\n",
              "      gap: 12px;\n",
              "    }\n",
              "\n",
              "    .colab-df-convert {\n",
              "      background-color: #E8F0FE;\n",
              "      border: none;\n",
              "      border-radius: 50%;\n",
              "      cursor: pointer;\n",
              "      display: none;\n",
              "      fill: #1967D2;\n",
              "      height: 32px;\n",
              "      padding: 0 0 0 0;\n",
              "      width: 32px;\n",
              "    }\n",
              "\n",
              "    .colab-df-convert:hover {\n",
              "      background-color: #E2EBFA;\n",
              "      box-shadow: 0px 1px 2px rgba(60, 64, 67, 0.3), 0px 1px 3px 1px rgba(60, 64, 67, 0.15);\n",
              "      fill: #174EA6;\n",
              "    }\n",
              "\n",
              "    [theme=dark] .colab-df-convert {\n",
              "      background-color: #3B4455;\n",
              "      fill: #D2E3FC;\n",
              "    }\n",
              "\n",
              "    [theme=dark] .colab-df-convert:hover {\n",
              "      background-color: #434B5C;\n",
              "      box-shadow: 0px 1px 3px 1px rgba(0, 0, 0, 0.15);\n",
              "      filter: drop-shadow(0px 1px 2px rgba(0, 0, 0, 0.3));\n",
              "      fill: #FFFFFF;\n",
              "    }\n",
              "  </style>\n",
              "\n",
              "      <script>\n",
              "        const buttonEl =\n",
              "          document.querySelector('#df-34b2f486-ad5f-4a6d-ad21-95086eb2e783 button.colab-df-convert');\n",
              "        buttonEl.style.display =\n",
              "          google.colab.kernel.accessAllowed ? 'block' : 'none';\n",
              "\n",
              "        async function convertToInteractive(key) {\n",
              "          const element = document.querySelector('#df-34b2f486-ad5f-4a6d-ad21-95086eb2e783');\n",
              "          const dataTable =\n",
              "            await google.colab.kernel.invokeFunction('convertToInteractive',\n",
              "                                                     [key], {});\n",
              "          if (!dataTable) return;\n",
              "\n",
              "          const docLinkHtml = 'Like what you see? Visit the ' +\n",
              "            '<a target=\"_blank\" href=https://colab.research.google.com/notebooks/data_table.ipynb>data table notebook</a>'\n",
              "            + ' to learn more about interactive tables.';\n",
              "          element.innerHTML = '';\n",
              "          dataTable['output_type'] = 'display_data';\n",
              "          await google.colab.output.renderOutput(dataTable, element);\n",
              "          const docLink = document.createElement('div');\n",
              "          docLink.innerHTML = docLinkHtml;\n",
              "          element.appendChild(docLink);\n",
              "        }\n",
              "      </script>\n",
              "    </div>\n",
              "  </div>\n",
              "  "
            ]
          },
          "metadata": {},
          "execution_count": 12
        }
      ],
      "source": [
        "df_ = load_dataset('online_retail_II')\n",
        "df_.head()"
      ]
    },
    {
      "cell_type": "code",
      "source": [
        "df = df_.copy()"
      ],
      "metadata": {
        "id": "Hevj83qcTtg5"
      },
      "execution_count": null,
      "outputs": []
    },
    {
      "cell_type": "markdown",
      "source": [
        "\n",
        "## Data Preprocessing\n"
      ],
      "metadata": {
        "id": "pDtHt9khU02z"
      }
    },
    {
      "cell_type": "code",
      "source": [
        "def summary_data(df):\n",
        "    print(\"  Head   :\")\n",
        "    print(df.head())\n",
        "    print(\"  Shape   :\")\n",
        "    print(df.shape)\n",
        "    print(\"  Describe   :\")\n",
        "    print(df.quantile([0, 0.01, 0.05, 0.10, 0.25, 0.50, 0.75, 0.95, 0.99, 1]).T)\n",
        "    print(\"  Null   :\")\n",
        "    print(df.isnull().sum())\n",
        "    print(\"  Columns   :\")\n",
        "    print(df.columns)\n",
        "    print(\"  Duplicate   :\")\n",
        "    print(df.duplicated().sum())\n",
        "    print(\"  Index max   :\")\n",
        "    print(df.index.max())\n",
        "    print(\"  Info   :\")\n",
        "    print(df.info())\n"
      ],
      "metadata": {
        "id": "0wTzrnAtWC8G"
      },
      "execution_count": null,
      "outputs": []
    },
    {
      "cell_type": "code",
      "execution_count": null,
      "metadata": {
        "id": "gTKXEv894ndX"
      },
      "outputs": [],
      "source": [
        "def replace_with_thresholds(dataframe, variable):\n",
        "    low_limit, up_limit = outlier_thresholds(dataframe, variable)\n",
        "    dataframe.loc[(dataframe[variable] < low_limit), variable] = low_limit\n",
        "    dataframe.loc[(dataframe[variable] > up_limit), variable] = up_limit\n",
        "\n",
        "\n",
        "def outlier_thresholds(dataframe, variable):\n",
        "    quartile1 = dataframe[variable].quantile(0.01)\n",
        "    quartile3 = dataframe[variable].quantile(0.99)\n",
        "    interquantile_range = quartile3 - quartile1\n",
        "    up_limit = quartile3 + 1.5 * interquantile_range\n",
        "    low_limit = quartile1 - 1.5 * interquantile_range\n",
        "    return low_limit, up_limit"
      ]
    },
    {
      "cell_type": "code",
      "source": [
        "def retail_data_prep(dataframe):\n",
        "    dataframe.dropna(inplace=True)\n",
        "    # dataframe = dataframe[~dataframe[\"Invoice\"].str.contains(\"C\", na=False)]\n",
        "    dataframe = dataframe[~dataframe[\"Invoice\"].str.contains(r\"[a-zA-Z]+\", na=False)]\n",
        "    dataframe = dataframe[~dataframe[\"StockCode\"].str.contains(r\"^[A-Za-z]+\", na=False)]    # POST and Manuel excluded but others stayed like 16168M \n",
        "    dataframe = dataframe[dataframe[\"Quantity\"] > 0]\n",
        "    dataframe = dataframe[dataframe[\"Price\"] > 0]\n",
        "    replace_with_thresholds(dataframe, \"Quantity\")\n",
        "    replace_with_thresholds(dataframe, \"Price\")\n",
        "    return dataframe"
      ],
      "metadata": {
        "id": "wRa9RHBaTuqO"
      },
      "execution_count": null,
      "outputs": []
    },
    {
      "cell_type": "markdown",
      "source": [
        "There is 38 different country in the dataset. Every country has own stracture. We can segment these countries with their characteristics or choose one them. Because when you give a transactional data to the apriori algorithm, that transforms to the matrix form and calculates the relationship between the products and a lot of data slows down the process.\n",
        "\n",
        "\n",
        "* We are going to choose the country in this project\n"
      ],
      "metadata": {
        "id": "8YDSR8UkC4m5"
      }
    },
    {
      "cell_type": "code",
      "source": [
        "df[\"Country\"].value_counts().count()"
      ],
      "metadata": {
        "colab": {
          "base_uri": "https://localhost:8080/"
        },
        "id": "MDQQlFMZAYHc",
        "outputId": "aa7791b6-735e-4449-c4ff-9b264d72ea32"
      },
      "execution_count": null,
      "outputs": [
        {
          "output_type": "execute_result",
          "data": {
            "text/plain": [
              "38"
            ]
          },
          "metadata": {},
          "execution_count": 50
        }
      ]
    },
    {
      "cell_type": "code",
      "source": [
        "Country = input(\"Select a country for apriori\").capitalize()\n",
        "df_Country = df[df[\"Country\"] == Country]"
      ],
      "metadata": {
        "colab": {
          "base_uri": "https://localhost:8080/"
        },
        "id": "PfeQSBpnT9Et",
        "outputId": "439999f0-e7b1-44e6-f7b7-178109efe226"
      },
      "execution_count": null,
      "outputs": [
        {
          "name": "stdout",
          "output_type": "stream",
          "text": [
            "Select a country for aprioriGermany\n"
          ]
        }
      ]
    },
    {
      "cell_type": "markdown",
      "source": [
        "When we looked our \"summary_data\" function, saw outlier, negative values in the numeric variables and some anomalies in the invoice and stock code variables. \n",
        "\n",
        "1. We know with our business information if invoice variable contains \"C\" in the begining of the variable, it means the product has been returned. In this point, we have to remove this products from the invoice. We try to more generalizable this stage and removed all of the letter contain products.\n",
        "\n",
        "2. We know that stock code can contain letters but not all letters. Then again for being generalizable, we used regular expression to exclude this type of stock codes like POST and Manuel.\n",
        "\n",
        "3. Quantity and Price variables cant contain negative values, these negative values removed.\n",
        "\n",
        "4. When we look at the Quantity and Price variables quantiles, we can see extreme values are exist. These extreme values excluded from the dataset. "
      ],
      "metadata": {
        "id": "Pp88-1nsVCqx"
      }
    },
    {
      "cell_type": "code",
      "source": [
        "summary_data(df_Country)"
      ],
      "metadata": {
        "colab": {
          "base_uri": "https://localhost:8080/"
        },
        "id": "KGPdnbCdWvaN",
        "outputId": "86cf51d6-7ef2-4e34-eacd-e2afd98f1fb1"
      },
      "execution_count": null,
      "outputs": [
        {
          "output_type": "stream",
          "name": "stdout",
          "text": [
            "  Head   :\n",
            "     Invoice StockCode                          Description  Quantity         InvoiceDate  Price  Customer ID  Country\n",
            "1109  536527     22809              SET OF 6 T-LIGHTS SANTA         6 2010-12-01 13:04:00   2.95      12662.0  Germany\n",
            "1110  536527     84347  ROTATING SILVER ANGELS T-LIGHT HLDR         6 2010-12-01 13:04:00   2.55      12662.0  Germany\n",
            "1111  536527     84945   MULTI COLOUR SILVER T-LIGHT HOLDER        12 2010-12-01 13:04:00   0.85      12662.0  Germany\n",
            "1112  536527     22242        5 HOOK HANGER MAGIC TOADSTOOL        12 2010-12-01 13:04:00   1.65      12662.0  Germany\n",
            "1113  536527     22244           3 HOOK HANGER MAGIC GARDEN        12 2010-12-01 13:04:00   1.95      12662.0  Germany\n",
            "  Shape   :\n",
            "(9495, 8)\n",
            "  Describe   :\n",
            "                0.00      0.01      0.05      0.10      0.25      0.50      0.75      0.95     0.99     1.00\n",
            "Quantity      -288.0     -4.00      1.00      2.00      5.00     10.00     12.00     32.00     75.0    600.0\n",
            "Price            0.0      0.21      0.42      0.55      1.25      1.95      3.75     12.75     18.0    599.5\n",
            "Customer ID  12426.0  12468.00  12471.00  12472.00  12480.00  12592.00  12662.00  13811.00  13816.0  14335.0\n",
            "  Null   :\n",
            "Invoice        0\n",
            "StockCode      0\n",
            "Description    0\n",
            "Quantity       0\n",
            "InvoiceDate    0\n",
            "Price          0\n",
            "Customer ID    0\n",
            "Country        0\n",
            "dtype: int64\n",
            "  Columns   :\n",
            "Index(['Invoice', 'StockCode', 'Description', 'Quantity', 'InvoiceDate', 'Price', 'Customer ID', 'Country'], dtype='object')\n",
            "  Duplicate   :\n",
            "15\n",
            "  Index max   :\n",
            "541805\n",
            "  Info   :\n",
            "<class 'pandas.core.frame.DataFrame'>\n",
            "Int64Index: 9495 entries, 1109 to 541805\n",
            "Data columns (total 8 columns):\n",
            " #   Column       Non-Null Count  Dtype         \n",
            "---  ------       --------------  -----         \n",
            " 0   Invoice      9495 non-null   object        \n",
            " 1   StockCode    9495 non-null   object        \n",
            " 2   Description  9495 non-null   object        \n",
            " 3   Quantity     9495 non-null   int64         \n",
            " 4   InvoiceDate  9495 non-null   datetime64[ns]\n",
            " 5   Price        9495 non-null   float64       \n",
            " 6   Customer ID  9495 non-null   float64       \n",
            " 7   Country      9495 non-null   object        \n",
            "dtypes: datetime64[ns](1), float64(2), int64(1), object(4)\n",
            "memory usage: 667.6+ KB\n",
            "None\n"
          ]
        }
      ]
    },
    {
      "cell_type": "markdown",
      "source": [
        "After the cleaning, we lost more than 800 data but most of them because of the returned products."
      ],
      "metadata": {
        "id": "UxFURzoH6fMO"
      }
    },
    {
      "cell_type": "code",
      "source": [
        "df_Country = retail_data_prep(df_Country)\n",
        "summary_data(df_Country)"
      ],
      "metadata": {
        "colab": {
          "base_uri": "https://localhost:8080/"
        },
        "id": "fJ16n2ddW7_F",
        "outputId": "3919ca1f-28b1-40e1-8797-d5cbbad5acad"
      },
      "execution_count": null,
      "outputs": [
        {
          "output_type": "stream",
          "name": "stdout",
          "text": [
            "  Head   :\n",
            "     Invoice StockCode                          Description  Quantity         InvoiceDate  Price  Customer ID  Country\n",
            "1109  536527     22809              SET OF 6 T-LIGHTS SANTA       6.0 2010-12-01 13:04:00   2.95      12662.0  Germany\n",
            "1110  536527     84347  ROTATING SILVER ANGELS T-LIGHT HLDR       6.0 2010-12-01 13:04:00   2.55      12662.0  Germany\n",
            "1111  536527     84945   MULTI COLOUR SILVER T-LIGHT HOLDER      12.0 2010-12-01 13:04:00   0.85      12662.0  Germany\n",
            "1112  536527     22242        5 HOOK HANGER MAGIC TOADSTOOL      12.0 2010-12-01 13:04:00   1.65      12662.0  Germany\n",
            "1113  536527     22244           3 HOOK HANGER MAGIC GARDEN      12.0 2010-12-01 13:04:00   1.95      12662.0  Germany\n",
            "  Shape   :\n",
            "(8658, 8)\n",
            "  Describe   :\n",
            "                 0.00      0.01      0.05      0.10      0.25      0.50      0.75     0.95      0.99      1.00\n",
            "Quantity         1.00      1.00      2.00      3.00      6.00     12.00     12.00     36.0     96.00    238.50\n",
            "Price            0.04      0.21      0.42      0.55      1.25      1.65      3.25      8.5     12.75     31.56\n",
            "Customer ID  12426.00  12468.00  12471.00  12473.00  12480.00  12600.00  12662.00  13812.0  13816.00  14335.00\n",
            "  Null   :\n",
            "Invoice        0\n",
            "StockCode      0\n",
            "Description    0\n",
            "Quantity       0\n",
            "InvoiceDate    0\n",
            "Price          0\n",
            "Customer ID    0\n",
            "Country        0\n",
            "dtype: int64\n",
            "  Columns   :\n",
            "Index(['Invoice', 'StockCode', 'Description', 'Quantity', 'InvoiceDate', 'Price', 'Customer ID', 'Country'], dtype='object')\n",
            "  Duplicate   :\n",
            "15\n",
            "  Index max   :\n",
            "541805\n",
            "  Info   :\n",
            "<class 'pandas.core.frame.DataFrame'>\n",
            "Int64Index: 8658 entries, 1109 to 541805\n",
            "Data columns (total 8 columns):\n",
            " #   Column       Non-Null Count  Dtype         \n",
            "---  ------       --------------  -----         \n",
            " 0   Invoice      8658 non-null   object        \n",
            " 1   StockCode    8658 non-null   object        \n",
            " 2   Description  8658 non-null   object        \n",
            " 3   Quantity     8658 non-null   float64       \n",
            " 4   InvoiceDate  8658 non-null   datetime64[ns]\n",
            " 5   Price        8658 non-null   float64       \n",
            " 6   Customer ID  8658 non-null   float64       \n",
            " 7   Country      8658 non-null   object        \n",
            "dtypes: datetime64[ns](1), float64(3), object(4)\n",
            "memory usage: 608.8+ KB\n",
            "None\n"
          ]
        },
        {
          "output_type": "stream",
          "name": "stderr",
          "text": [
            "/usr/local/lib/python3.8/dist-packages/pandas/util/_decorators.py:311: SettingWithCopyWarning: \n",
            "A value is trying to be set on a copy of a slice from a DataFrame\n",
            "\n",
            "See the caveats in the documentation: https://pandas.pydata.org/pandas-docs/stable/user_guide/indexing.html#returning-a-view-versus-a-copy\n",
            "  return func(*args, **kwargs)\n"
          ]
        }
      ]
    },
    {
      "cell_type": "markdown",
      "source": [
        "In the cleaning section, we wanted to clean some stock codes and used regular expression. I wanted to control in here, is it still contain some of the stock codes that include letter? Yes, we continue..\n"
      ],
      "metadata": {
        "id": "Trm1BkVe71tW"
      }
    },
    {
      "cell_type": "code",
      "source": [
        "df_Country[df_Country['StockCode'] == \"85123A\"]"
      ],
      "metadata": {
        "colab": {
          "base_uri": "https://localhost:8080/",
          "height": 81
        },
        "id": "dG8jNdspv5MU",
        "outputId": "50b252ab-a698-44ca-9ca7-df12cde7cb77"
      },
      "execution_count": null,
      "outputs": [
        {
          "output_type": "execute_result",
          "data": {
            "text/plain": [
              "       Invoice StockCode                         Description  Quantity         InvoiceDate  Price  Customer ID  Country\n",
              "497798  578472    85123A  WHITE HANGING HEART T-LIGHT HOLDER      12.0 2011-11-24 12:40:00   2.95      12476.0  Germany"
            ],
            "text/html": [
              "\n",
              "  <div id=\"df-047d8e6a-bc99-454f-aab9-76faee2b144b\">\n",
              "    <div class=\"colab-df-container\">\n",
              "      <div>\n",
              "<style scoped>\n",
              "    .dataframe tbody tr th:only-of-type {\n",
              "        vertical-align: middle;\n",
              "    }\n",
              "\n",
              "    .dataframe tbody tr th {\n",
              "        vertical-align: top;\n",
              "    }\n",
              "\n",
              "    .dataframe thead th {\n",
              "        text-align: right;\n",
              "    }\n",
              "</style>\n",
              "<table border=\"1\" class=\"dataframe\">\n",
              "  <thead>\n",
              "    <tr style=\"text-align: right;\">\n",
              "      <th></th>\n",
              "      <th>Invoice</th>\n",
              "      <th>StockCode</th>\n",
              "      <th>Description</th>\n",
              "      <th>Quantity</th>\n",
              "      <th>InvoiceDate</th>\n",
              "      <th>Price</th>\n",
              "      <th>Customer ID</th>\n",
              "      <th>Country</th>\n",
              "    </tr>\n",
              "  </thead>\n",
              "  <tbody>\n",
              "    <tr>\n",
              "      <th>497798</th>\n",
              "      <td>578472</td>\n",
              "      <td>85123A</td>\n",
              "      <td>WHITE HANGING HEART T-LIGHT HOLDER</td>\n",
              "      <td>12.0</td>\n",
              "      <td>2011-11-24 12:40:00</td>\n",
              "      <td>2.95</td>\n",
              "      <td>12476.0</td>\n",
              "      <td>Germany</td>\n",
              "    </tr>\n",
              "  </tbody>\n",
              "</table>\n",
              "</div>\n",
              "      <button class=\"colab-df-convert\" onclick=\"convertToInteractive('df-047d8e6a-bc99-454f-aab9-76faee2b144b')\"\n",
              "              title=\"Convert this dataframe to an interactive table.\"\n",
              "              style=\"display:none;\">\n",
              "        \n",
              "  <svg xmlns=\"http://www.w3.org/2000/svg\" height=\"24px\"viewBox=\"0 0 24 24\"\n",
              "       width=\"24px\">\n",
              "    <path d=\"M0 0h24v24H0V0z\" fill=\"none\"/>\n",
              "    <path d=\"M18.56 5.44l.94 2.06.94-2.06 2.06-.94-2.06-.94-.94-2.06-.94 2.06-2.06.94zm-11 1L8.5 8.5l.94-2.06 2.06-.94-2.06-.94L8.5 2.5l-.94 2.06-2.06.94zm10 10l.94 2.06.94-2.06 2.06-.94-2.06-.94-.94-2.06-.94 2.06-2.06.94z\"/><path d=\"M17.41 7.96l-1.37-1.37c-.4-.4-.92-.59-1.43-.59-.52 0-1.04.2-1.43.59L10.3 9.45l-7.72 7.72c-.78.78-.78 2.05 0 2.83L4 21.41c.39.39.9.59 1.41.59.51 0 1.02-.2 1.41-.59l7.78-7.78 2.81-2.81c.8-.78.8-2.07 0-2.86zM5.41 20L4 18.59l7.72-7.72 1.47 1.35L5.41 20z\"/>\n",
              "  </svg>\n",
              "      </button>\n",
              "      \n",
              "  <style>\n",
              "    .colab-df-container {\n",
              "      display:flex;\n",
              "      flex-wrap:wrap;\n",
              "      gap: 12px;\n",
              "    }\n",
              "\n",
              "    .colab-df-convert {\n",
              "      background-color: #E8F0FE;\n",
              "      border: none;\n",
              "      border-radius: 50%;\n",
              "      cursor: pointer;\n",
              "      display: none;\n",
              "      fill: #1967D2;\n",
              "      height: 32px;\n",
              "      padding: 0 0 0 0;\n",
              "      width: 32px;\n",
              "    }\n",
              "\n",
              "    .colab-df-convert:hover {\n",
              "      background-color: #E2EBFA;\n",
              "      box-shadow: 0px 1px 2px rgba(60, 64, 67, 0.3), 0px 1px 3px 1px rgba(60, 64, 67, 0.15);\n",
              "      fill: #174EA6;\n",
              "    }\n",
              "\n",
              "    [theme=dark] .colab-df-convert {\n",
              "      background-color: #3B4455;\n",
              "      fill: #D2E3FC;\n",
              "    }\n",
              "\n",
              "    [theme=dark] .colab-df-convert:hover {\n",
              "      background-color: #434B5C;\n",
              "      box-shadow: 0px 1px 3px 1px rgba(0, 0, 0, 0.15);\n",
              "      filter: drop-shadow(0px 1px 2px rgba(0, 0, 0, 0.3));\n",
              "      fill: #FFFFFF;\n",
              "    }\n",
              "  </style>\n",
              "\n",
              "      <script>\n",
              "        const buttonEl =\n",
              "          document.querySelector('#df-047d8e6a-bc99-454f-aab9-76faee2b144b button.colab-df-convert');\n",
              "        buttonEl.style.display =\n",
              "          google.colab.kernel.accessAllowed ? 'block' : 'none';\n",
              "\n",
              "        async function convertToInteractive(key) {\n",
              "          const element = document.querySelector('#df-047d8e6a-bc99-454f-aab9-76faee2b144b');\n",
              "          const dataTable =\n",
              "            await google.colab.kernel.invokeFunction('convertToInteractive',\n",
              "                                                     [key], {});\n",
              "          if (!dataTable) return;\n",
              "\n",
              "          const docLinkHtml = 'Like what you see? Visit the ' +\n",
              "            '<a target=\"_blank\" href=https://colab.research.google.com/notebooks/data_table.ipynb>data table notebook</a>'\n",
              "            + ' to learn more about interactive tables.';\n",
              "          element.innerHTML = '';\n",
              "          dataTable['output_type'] = 'display_data';\n",
              "          await google.colab.output.renderOutput(dataTable, element);\n",
              "          const docLink = document.createElement('div');\n",
              "          docLink.innerHTML = docLinkHtml;\n",
              "          element.appendChild(docLink);\n",
              "        }\n",
              "      </script>\n",
              "    </div>\n",
              "  </div>\n",
              "  "
            ]
          },
          "metadata": {},
          "execution_count": 54
        }
      ]
    },
    {
      "cell_type": "markdown",
      "source": [
        "At this point, we will choose 3 stock codes and recommend products to people who will buy these products."
      ],
      "metadata": {
        "id": "2Xbo2qy9-pVq"
      }
    },
    {
      "cell_type": "code",
      "source": [
        "User1 = 21987\n",
        "User2 = 23235\n",
        "User3 = 22747"
      ],
      "metadata": {
        "id": "58eJxxSHrQ0E"
      },
      "execution_count": null,
      "outputs": []
    },
    {
      "cell_type": "markdown",
      "source": [
        "CheckID function gives us a description when we write the stock code.\n"
      ],
      "metadata": {
        "id": "cMa7H_r9_Yvp"
      }
    },
    {
      "cell_type": "code",
      "source": [
        "def CheckID(data, stock_code):\n",
        "    product_name = data[data[\"StockCode\"] == stock_code][[\"Description\"]].values[0].tolist()\n",
        "    print(product_name)\n",
        "\n",
        "CheckID(df_Country, User1)"
      ],
      "metadata": {
        "colab": {
          "base_uri": "https://localhost:8080/"
        },
        "id": "uN05Sp4RrPYD",
        "outputId": "1ce69ee2-aa52-445d-f1d5-64b28f6df8cb"
      },
      "execution_count": null,
      "outputs": [
        {
          "output_type": "stream",
          "name": "stdout",
          "text": [
            "['PACK OF 6 SKULL PAPER CUPS']\n"
          ]
        }
      ]
    },
    {
      "cell_type": "code",
      "source": [
        "CheckID(df_Country, User2)"
      ],
      "metadata": {
        "colab": {
          "base_uri": "https://localhost:8080/"
        },
        "id": "Vn8IpDLCrhyM",
        "outputId": "9e23c138-57f3-4941-cabf-042ed95433b8"
      },
      "execution_count": null,
      "outputs": [
        {
          "output_type": "stream",
          "name": "stdout",
          "text": [
            "['STORAGE TIN VINTAGE LEAF']\n"
          ]
        }
      ]
    },
    {
      "cell_type": "code",
      "source": [
        "CheckID(df_Country, User3)"
      ],
      "metadata": {
        "colab": {
          "base_uri": "https://localhost:8080/"
        },
        "id": "25LLF_MUrlyN",
        "outputId": "2028c4a5-3f6d-464f-9cff-88c617539d08"
      },
      "execution_count": null,
      "outputs": [
        {
          "output_type": "stream",
          "name": "stdout",
          "text": [
            "[\"POPPY'S PLAYHOUSE BATHROOM\"]\n"
          ]
        }
      ]
    },
    {
      "cell_type": "markdown",
      "source": [
        "## Preparation of Association Rules\n",
        "\n",
        "We can create an apriori algorithm for a stock code or product descripton. Before the aprioriRecommendation function, is created an appropriate table based on this selection. \n",
        "\n",
        "Need to transform the data as a one hot dataframe\n",
        "\n",
        "\n"
      ],
      "metadata": {
        "id": "dDLfD1Wu_3sl"
      }
    },
    {
      "cell_type": "code",
      "source": [
        "def invoiceProduct(data,product=True):\n",
        "    if product:\n",
        "        return data.pivot_table(index=\"Invoice\",columns=\"StockCode\",values=\"Quantity\").fillna(0).applymap(lambda x: 1 if x > 0 else 0)\n",
        "    else:\n",
        "        return data.pivot_table(index=\"Invoice\",columns=\"Description\",values=\"Quantity\").fillna(0).applymap(lambda x: 1 if x > 0 else 0)\n"
      ],
      "metadata": {
        "id": "71ikNM9aUJ71"
      },
      "execution_count": null,
      "outputs": []
    },
    {
      "cell_type": "markdown",
      "source": [
        "Apriori Algorithm has a min_support parameter which is a ratio of the item occur and total transaction number. This parameter's default value is 0.5 which is too much for some items then we change this value to 0.01.\n",
        "\n"
      ],
      "metadata": {
        "id": "D_YPQPrxFvbQ"
      }
    },
    {
      "cell_type": "code",
      "source": [
        "def rules(data):\n",
        "    frequent_itemsets = apriori(data, min_support=0.01, use_colnames=True)\n",
        "    rules = association_rules(frequent_itemsets, metric=\"support\", min_threshold=0.01)\n",
        "    return rules"
      ],
      "metadata": {
        "id": "mNFTzqd_UNH2"
      },
      "execution_count": null,
      "outputs": []
    },
    {
      "cell_type": "markdown",
      "source": [
        "Apriori Algorithm returns a table with Antecedents, Consequents, Antecedent_Support, Consequents_Support, Support, Confidence, Lift, Leverage and Conviction metrics. These metrics:\n",
        "\n",
        "* Antecedents: An item (for this dataset is product) found in data. \n",
        "* Consequents: An item found in combination with the antecedent.\n",
        "* Antecedent_Support: Probability of antecedent's occurrence. \n",
        "* Consequents_Support: Probability of consequent's occurrence. \n",
        "* Support: Probability of antecedent and consequent's together occurrence.\n",
        "* Confidence: Probability of the items occurring together by the probability of antecedent's occurence. \n",
        "<ul type = \"disc\"><li> (Support / Antecedent Support) </li></ul>\n",
        "* Lift: Proportion of the items occurring together and their expected probabilities. \n",
        "<ul type = \"disc\"><li> (Support/(Antecedent_Support*Consequents_Support)) </li></ul> This shows us that when the antecedent item is purchased, the probability of purchasing the   consequent item increases by lift.\n",
        "\n",
        "* Leverage: Correlation between item sets by comparing the support of item sets under independence assumption. \n",
        "<ul type = \"disc\"><li> (Support-(Antecedent_Support*Consequents_Support)) </li></ul>\n",
        " Because of the difference in \n",
        "the formula, leverage favors item sets with higher support, while lift can find strong associations among less frequent item sets.\n",
        "* Conviction: Antecedent item's expected value without consequent item. \n",
        "<ul type = \"disc\"><li> ((1-Support) / (1-Confidence))</li></ul>\n",
        "\n",
        "\n",
        "\n",
        "\n",
        "\n"
      ],
      "metadata": {
        "id": "PZG3l6cMKHO2"
      }
    },
    {
      "cell_type": "code",
      "source": [
        "rules(invoiceProduct(df_Country, product=True)).head()"
      ],
      "metadata": {
        "colab": {
          "base_uri": "https://localhost:8080/"
        },
        "id": "C1c6o8YLJb4W",
        "outputId": "7ed38932-7368-4023-8373-6ae856d67e1c"
      },
      "execution_count": null,
      "outputs": [
        {
          "output_type": "execute_result",
          "data": {
            "text/plain": [
              "  antecedents consequents  antecedent support  consequent support   support  confidence       lift  leverage  conviction\n",
              "0     (16237)     (22326)            0.011287            0.252822  0.011287    1.000000   3.955357  0.008433         inf\n",
              "1     (22326)     (16237)            0.252822            0.011287  0.011287    0.044643   3.955357  0.008433    1.034915\n",
              "2     (20674)     (20675)            0.022573            0.033860  0.013544    0.600000  17.720000  0.012780    2.415350\n",
              "3     (20675)     (20674)            0.033860            0.022573  0.013544    0.400000  17.720000  0.012780    1.629044\n",
              "4     (20674)     (20676)            0.022573            0.038375  0.011287    0.500000  13.029412  0.010420    1.923251"
            ],
            "text/html": [
              "\n",
              "  <div id=\"df-3a11669e-a62c-43e6-b2be-3923851fb241\">\n",
              "    <div class=\"colab-df-container\">\n",
              "      <div>\n",
              "<style scoped>\n",
              "    .dataframe tbody tr th:only-of-type {\n",
              "        vertical-align: middle;\n",
              "    }\n",
              "\n",
              "    .dataframe tbody tr th {\n",
              "        vertical-align: top;\n",
              "    }\n",
              "\n",
              "    .dataframe thead th {\n",
              "        text-align: right;\n",
              "    }\n",
              "</style>\n",
              "<table border=\"1\" class=\"dataframe\">\n",
              "  <thead>\n",
              "    <tr style=\"text-align: right;\">\n",
              "      <th></th>\n",
              "      <th>antecedents</th>\n",
              "      <th>consequents</th>\n",
              "      <th>antecedent support</th>\n",
              "      <th>consequent support</th>\n",
              "      <th>support</th>\n",
              "      <th>confidence</th>\n",
              "      <th>lift</th>\n",
              "      <th>leverage</th>\n",
              "      <th>conviction</th>\n",
              "    </tr>\n",
              "  </thead>\n",
              "  <tbody>\n",
              "    <tr>\n",
              "      <th>0</th>\n",
              "      <td>(16237)</td>\n",
              "      <td>(22326)</td>\n",
              "      <td>0.011287</td>\n",
              "      <td>0.252822</td>\n",
              "      <td>0.011287</td>\n",
              "      <td>1.000000</td>\n",
              "      <td>3.955357</td>\n",
              "      <td>0.008433</td>\n",
              "      <td>inf</td>\n",
              "    </tr>\n",
              "    <tr>\n",
              "      <th>1</th>\n",
              "      <td>(22326)</td>\n",
              "      <td>(16237)</td>\n",
              "      <td>0.252822</td>\n",
              "      <td>0.011287</td>\n",
              "      <td>0.011287</td>\n",
              "      <td>0.044643</td>\n",
              "      <td>3.955357</td>\n",
              "      <td>0.008433</td>\n",
              "      <td>1.034915</td>\n",
              "    </tr>\n",
              "    <tr>\n",
              "      <th>2</th>\n",
              "      <td>(20674)</td>\n",
              "      <td>(20675)</td>\n",
              "      <td>0.022573</td>\n",
              "      <td>0.033860</td>\n",
              "      <td>0.013544</td>\n",
              "      <td>0.600000</td>\n",
              "      <td>17.720000</td>\n",
              "      <td>0.012780</td>\n",
              "      <td>2.415350</td>\n",
              "    </tr>\n",
              "    <tr>\n",
              "      <th>3</th>\n",
              "      <td>(20675)</td>\n",
              "      <td>(20674)</td>\n",
              "      <td>0.033860</td>\n",
              "      <td>0.022573</td>\n",
              "      <td>0.013544</td>\n",
              "      <td>0.400000</td>\n",
              "      <td>17.720000</td>\n",
              "      <td>0.012780</td>\n",
              "      <td>1.629044</td>\n",
              "    </tr>\n",
              "    <tr>\n",
              "      <th>4</th>\n",
              "      <td>(20674)</td>\n",
              "      <td>(20676)</td>\n",
              "      <td>0.022573</td>\n",
              "      <td>0.038375</td>\n",
              "      <td>0.011287</td>\n",
              "      <td>0.500000</td>\n",
              "      <td>13.029412</td>\n",
              "      <td>0.010420</td>\n",
              "      <td>1.923251</td>\n",
              "    </tr>\n",
              "  </tbody>\n",
              "</table>\n",
              "</div>\n",
              "      <button class=\"colab-df-convert\" onclick=\"convertToInteractive('df-3a11669e-a62c-43e6-b2be-3923851fb241')\"\n",
              "              title=\"Convert this dataframe to an interactive table.\"\n",
              "              style=\"display:none;\">\n",
              "        \n",
              "  <svg xmlns=\"http://www.w3.org/2000/svg\" height=\"24px\"viewBox=\"0 0 24 24\"\n",
              "       width=\"24px\">\n",
              "    <path d=\"M0 0h24v24H0V0z\" fill=\"none\"/>\n",
              "    <path d=\"M18.56 5.44l.94 2.06.94-2.06 2.06-.94-2.06-.94-.94-2.06-.94 2.06-2.06.94zm-11 1L8.5 8.5l.94-2.06 2.06-.94-2.06-.94L8.5 2.5l-.94 2.06-2.06.94zm10 10l.94 2.06.94-2.06 2.06-.94-2.06-.94-.94-2.06-.94 2.06-2.06.94z\"/><path d=\"M17.41 7.96l-1.37-1.37c-.4-.4-.92-.59-1.43-.59-.52 0-1.04.2-1.43.59L10.3 9.45l-7.72 7.72c-.78.78-.78 2.05 0 2.83L4 21.41c.39.39.9.59 1.41.59.51 0 1.02-.2 1.41-.59l7.78-7.78 2.81-2.81c.8-.78.8-2.07 0-2.86zM5.41 20L4 18.59l7.72-7.72 1.47 1.35L5.41 20z\"/>\n",
              "  </svg>\n",
              "      </button>\n",
              "      \n",
              "  <style>\n",
              "    .colab-df-container {\n",
              "      display:flex;\n",
              "      flex-wrap:wrap;\n",
              "      gap: 12px;\n",
              "    }\n",
              "\n",
              "    .colab-df-convert {\n",
              "      background-color: #E8F0FE;\n",
              "      border: none;\n",
              "      border-radius: 50%;\n",
              "      cursor: pointer;\n",
              "      display: none;\n",
              "      fill: #1967D2;\n",
              "      height: 32px;\n",
              "      padding: 0 0 0 0;\n",
              "      width: 32px;\n",
              "    }\n",
              "\n",
              "    .colab-df-convert:hover {\n",
              "      background-color: #E2EBFA;\n",
              "      box-shadow: 0px 1px 2px rgba(60, 64, 67, 0.3), 0px 1px 3px 1px rgba(60, 64, 67, 0.15);\n",
              "      fill: #174EA6;\n",
              "    }\n",
              "\n",
              "    [theme=dark] .colab-df-convert {\n",
              "      background-color: #3B4455;\n",
              "      fill: #D2E3FC;\n",
              "    }\n",
              "\n",
              "    [theme=dark] .colab-df-convert:hover {\n",
              "      background-color: #434B5C;\n",
              "      box-shadow: 0px 1px 3px 1px rgba(0, 0, 0, 0.15);\n",
              "      filter: drop-shadow(0px 1px 2px rgba(0, 0, 0, 0.3));\n",
              "      fill: #FFFFFF;\n",
              "    }\n",
              "  </style>\n",
              "\n",
              "      <script>\n",
              "        const buttonEl =\n",
              "          document.querySelector('#df-3a11669e-a62c-43e6-b2be-3923851fb241 button.colab-df-convert');\n",
              "        buttonEl.style.display =\n",
              "          google.colab.kernel.accessAllowed ? 'block' : 'none';\n",
              "\n",
              "        async function convertToInteractive(key) {\n",
              "          const element = document.querySelector('#df-3a11669e-a62c-43e6-b2be-3923851fb241');\n",
              "          const dataTable =\n",
              "            await google.colab.kernel.invokeFunction('convertToInteractive',\n",
              "                                                     [key], {});\n",
              "          if (!dataTable) return;\n",
              "\n",
              "          const docLinkHtml = 'Like what you see? Visit the ' +\n",
              "            '<a target=\"_blank\" href=https://colab.research.google.com/notebooks/data_table.ipynb>data table notebook</a>'\n",
              "            + ' to learn more about interactive tables.';\n",
              "          element.innerHTML = '';\n",
              "          dataTable['output_type'] = 'display_data';\n",
              "          await google.colab.output.renderOutput(dataTable, element);\n",
              "          const docLink = document.createElement('div');\n",
              "          docLink.innerHTML = docLinkHtml;\n",
              "          element.appendChild(docLink);\n",
              "        }\n",
              "      </script>\n",
              "    </div>\n",
              "  </div>\n",
              "  "
            ]
          },
          "metadata": {},
          "execution_count": 61
        }
      ]
    },
    {
      "cell_type": "markdown",
      "source": [
        "## Suggestion a product to the buyers.\n",
        "\n",
        "In the recommendation stage, we can manage different strategies by metrics. Generally, i like the lift metric which also gives items with low frequencies. \n",
        "\n",
        "We can filter before the recommendation using metrics by support, lift, confidence etc\n",
        "\n",
        "### Which product you recommed who buys a product 21987? \n",
        "**21987 = PACK OF 6 SKULL PAPER CUPS**\n"
      ],
      "metadata": {
        "id": "KC-yzuwqIi4Q"
      }
    },
    {
      "cell_type": "code",
      "source": [
        "User = User1"
      ],
      "metadata": {
        "id": "-PhA9UfCruf8"
      },
      "execution_count": null,
      "outputs": []
    },
    {
      "cell_type": "markdown",
      "source": [
        "The id of the most probability recommendation is **85099B**\n"
      ],
      "metadata": {
        "id": "0AJd8_uDfulc"
      }
    },
    {
      "cell_type": "code",
      "source": [
        "def aprioriRecommendation(data,count=1):\n",
        "    df_Country_inv_pro = invoiceProduct(df_Country, product=True)\n",
        "    Rules = rules(df_Country_inv_pro)\n",
        "    sorted_rules = Rules.sort_values(\"lift\", ascending=False)\n",
        "    recommendation_list = []\n",
        "    for i, product in sorted_rules[\"antecedents\"].items():\n",
        "        for j in list(product):\n",
        "            if j == User:\n",
        "                recommendation_list.append(list(sorted_rules.iloc[i][\"consequents\"]))\n",
        "    recommendation_list = list({item for item_list in recommendation_list for item in item_list})\n",
        "    return recommendation_list[:count]\n",
        "\n",
        "aprioriRecommendation(rules)"
      ],
      "metadata": {
        "colab": {
          "base_uri": "https://localhost:8080/"
        },
        "id": "LDoEWZWXUQIV",
        "outputId": "dbe30f69-fdaf-4501-a9e0-e90bd97213bf"
      },
      "execution_count": null,
      "outputs": [
        {
          "output_type": "execute_result",
          "data": {
            "text/plain": [
              "['85099B']"
            ]
          },
          "metadata": {},
          "execution_count": 37
        }
      ]
    },
    {
      "cell_type": "code",
      "source": [
        "for i in aprioriRecommendation(rules):\n",
        "    CheckID(df_Country, i)"
      ],
      "metadata": {
        "colab": {
          "base_uri": "https://localhost:8080/"
        },
        "id": "NMPSHGZFURiF",
        "outputId": "3a3067ed-4411-4b35-86c5-ad6cfe119a59"
      },
      "execution_count": null,
      "outputs": [
        {
          "output_type": "stream",
          "name": "stdout",
          "text": [
            "['JUMBO BAG RED RETROSPOT']\n"
          ]
        }
      ]
    },
    {
      "cell_type": "markdown",
      "source": [
        "The first 3 id of the most probability recommendations are **85099B, 22029, 20750**\n",
        "\n",
        "With these functions, we can choose how many products we want to recommend and see what the selections descriptions are."
      ],
      "metadata": {
        "id": "yMNZesBcgMP9"
      }
    },
    {
      "cell_type": "code",
      "source": [
        "aprioriRecommendation(rules,count=3)"
      ],
      "metadata": {
        "colab": {
          "base_uri": "https://localhost:8080/"
        },
        "id": "UedJOCM14_Q0",
        "outputId": "df2f5af9-2928-4f7f-f17f-5f20a4cf500c"
      },
      "execution_count": null,
      "outputs": [
        {
          "output_type": "execute_result",
          "data": {
            "text/plain": [
              "['85099B', 22029, 20750]"
            ]
          },
          "metadata": {},
          "execution_count": 39
        }
      ]
    },
    {
      "cell_type": "code",
      "source": [
        "for i in aprioriRecommendation(rules,count = 3):\n",
        "    CheckID(df_Country, i)"
      ],
      "metadata": {
        "colab": {
          "base_uri": "https://localhost:8080/"
        },
        "id": "vOZMDAJ55JkT",
        "outputId": "e728b463-3c30-43d6-a59b-6de29a945fe0"
      },
      "execution_count": null,
      "outputs": [
        {
          "output_type": "stream",
          "name": "stdout",
          "text": [
            "['JUMBO BAG RED RETROSPOT']\n",
            "['SPACEBOY BIRTHDAY CARD']\n",
            "['RED RETROSPOT MINI CASES']\n"
          ]
        }
      ]
    }
  ],
  "metadata": {
    "colab": {
      "provenance": [],
      "collapsed_sections": [
        "0WE2Ra1BA1OA",
        "pDtHt9khU02z",
        "dDLfD1Wu_3sl"
      ]
    },
    "kernelspec": {
      "display_name": "Python 3",
      "name": "python3"
    },
    "language_info": {
      "name": "python"
    }
  },
  "nbformat": 4,
  "nbformat_minor": 0
}