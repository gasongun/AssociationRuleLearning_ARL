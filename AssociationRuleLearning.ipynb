{
  "cells": [
    {
      "cell_type": "markdown",
      "metadata": {
        "id": "50spAhs2N72v"
      },
      "source": [
        "# Association Rule Learning\n",
        "\n",
        "This project aim is find a relation between the products and suggest right product combination to the buyers bu using online retail II dataset.\n",
        "\n",
        "We are going to follow the content below in this project:\n",
        "\n",
        "\n",
        "1. Importing Libraries & Data \n",
        "2. Data Preprocessing\n",
        "3. Preparation of Association Rules\n",
        "4. Suggestion a product to the buyers. "
      ]
    },
    {
      "cell_type": "markdown",
      "metadata": {
        "id": "0WE2Ra1BA1OA"
      },
      "source": [
        "## Import Libraries and Upload Dataset\n",
        "\n",
        "In association rule project, we're going to use apriori algorithm which is an algorithm that allows the implementation of Association Rules to detect products in the same basket. "
      ]
    },
    {
      "cell_type": "code",
      "execution_count": 1,
      "metadata": {
        "id": "hvvqyP-S4p0B"
      },
      "outputs": [],
      "source": [
        "import pandas as pd\n",
        "import os\n",
        "pd.set_option('display.max_columns', None)\n",
        "pd.set_option('display.width', 500)\n",
        "pd.set_option('display.expand_frame_repr', False)\n",
        "from mlxtend.frequent_patterns import apriori, association_rules"
      ]
    },
    {
      "cell_type": "markdown",
      "metadata": {
        "id": "3pDgEAPxNtje"
      },
      "source": [
        "We create a function for excel datasets. We use google colab in the project, before we upload the dataset need a quick confuguration for drive usage."
      ]
    },
    {
      "cell_type": "code",
      "execution_count": 2,
      "metadata": {
        "id": "D_C4Yz16PMC1"
      },
      "outputs": [],
      "source": [
        "def load_dataset(data):\n",
        "    path = os.getcwd()\n",
        "    sheet = input(\"Which sheet you want to open?\")\n",
        "    return pd.read_excel(path + '/' + data + \".xlsx\", sheet_name = sheet)\n",
        "  # sheet name is \"Year 2010-2011\""
      ]
    },
    {
      "cell_type": "code",
      "execution_count": 3,
      "metadata": {
        "colab": {
          "base_uri": "https://localhost:8080/"
        },
        "id": "3gOd-kO7PQTW",
        "outputId": "04a76456-ce10-4bbb-dfff-20e55cda2518"
      },
      "outputs": [
        {
          "name": "stdout",
          "output_type": "stream",
          "text": [
            "Mounted at /content/drive\n"
          ]
        }
      ],
      "source": [
        "from google.colab import drive\n",
        "drive.mount('/content/drive')"
      ]
    },
    {
      "cell_type": "markdown",
      "metadata": {
        "id": "AZC2Ee_ELbAl"
      },
      "source": [
        "We change the directory to data's directory get from automaticly."
      ]
    },
    {
      "cell_type": "code",
      "execution_count": 4,
      "metadata": {
        "id": "JreG21g3_2WT"
      },
      "outputs": [],
      "source": [
        "os.chdir('/content/drive/MyDrive/Python/VBO/')"
      ]
    },
    {
      "cell_type": "markdown",
      "metadata": {
        "id": "MfzSC4r3UWAp"
      },
      "source": [
        "Excel file has two sheet for the years that we choose the second sheet \"Year 2010-2011\""
      ]
    },
    {
      "cell_type": "code",
      "execution_count": 5,
      "metadata": {
        "colab": {
          "base_uri": "https://localhost:8080/",
          "height": 0
        },
        "id": "lS3tCe4C4rdP",
        "outputId": "ff8d59f2-ebff-458e-e948-61e1c90b6d7a"
      },
      "outputs": [
        {
          "name": "stdout",
          "output_type": "stream",
          "text": [
            "Which sheet you want to open?Year 2010-2011\n"
          ]
        },
        {
          "data": {
            "text/html": [
              "\n",
              "  <div id=\"df-0b59e1d1-4936-4212-b932-7ff1d619a4e1\">\n",
              "    <div class=\"colab-df-container\">\n",
              "      <div>\n",
              "<style scoped>\n",
              "    .dataframe tbody tr th:only-of-type {\n",
              "        vertical-align: middle;\n",
              "    }\n",
              "\n",
              "    .dataframe tbody tr th {\n",
              "        vertical-align: top;\n",
              "    }\n",
              "\n",
              "    .dataframe thead th {\n",
              "        text-align: right;\n",
              "    }\n",
              "</style>\n",
              "<table border=\"1\" class=\"dataframe\">\n",
              "  <thead>\n",
              "    <tr style=\"text-align: right;\">\n",
              "      <th></th>\n",
              "      <th>Invoice</th>\n",
              "      <th>StockCode</th>\n",
              "      <th>Description</th>\n",
              "      <th>Quantity</th>\n",
              "      <th>InvoiceDate</th>\n",
              "      <th>Price</th>\n",
              "      <th>Customer ID</th>\n",
              "      <th>Country</th>\n",
              "    </tr>\n",
              "  </thead>\n",
              "  <tbody>\n",
              "    <tr>\n",
              "      <th>0</th>\n",
              "      <td>536365</td>\n",
              "      <td>85123A</td>\n",
              "      <td>WHITE HANGING HEART T-LIGHT HOLDER</td>\n",
              "      <td>6</td>\n",
              "      <td>2010-12-01 08:26:00</td>\n",
              "      <td>2.55</td>\n",
              "      <td>17850.0</td>\n",
              "      <td>United Kingdom</td>\n",
              "    </tr>\n",
              "    <tr>\n",
              "      <th>1</th>\n",
              "      <td>536365</td>\n",
              "      <td>71053</td>\n",
              "      <td>WHITE METAL LANTERN</td>\n",
              "      <td>6</td>\n",
              "      <td>2010-12-01 08:26:00</td>\n",
              "      <td>3.39</td>\n",
              "      <td>17850.0</td>\n",
              "      <td>United Kingdom</td>\n",
              "    </tr>\n",
              "    <tr>\n",
              "      <th>2</th>\n",
              "      <td>536365</td>\n",
              "      <td>84406B</td>\n",
              "      <td>CREAM CUPID HEARTS COAT HANGER</td>\n",
              "      <td>8</td>\n",
              "      <td>2010-12-01 08:26:00</td>\n",
              "      <td>2.75</td>\n",
              "      <td>17850.0</td>\n",
              "      <td>United Kingdom</td>\n",
              "    </tr>\n",
              "    <tr>\n",
              "      <th>3</th>\n",
              "      <td>536365</td>\n",
              "      <td>84029G</td>\n",
              "      <td>KNITTED UNION FLAG HOT WATER BOTTLE</td>\n",
              "      <td>6</td>\n",
              "      <td>2010-12-01 08:26:00</td>\n",
              "      <td>3.39</td>\n",
              "      <td>17850.0</td>\n",
              "      <td>United Kingdom</td>\n",
              "    </tr>\n",
              "    <tr>\n",
              "      <th>4</th>\n",
              "      <td>536365</td>\n",
              "      <td>84029E</td>\n",
              "      <td>RED WOOLLY HOTTIE WHITE HEART.</td>\n",
              "      <td>6</td>\n",
              "      <td>2010-12-01 08:26:00</td>\n",
              "      <td>3.39</td>\n",
              "      <td>17850.0</td>\n",
              "      <td>United Kingdom</td>\n",
              "    </tr>\n",
              "  </tbody>\n",
              "</table>\n",
              "</div>\n",
              "      <button class=\"colab-df-convert\" onclick=\"convertToInteractive('df-0b59e1d1-4936-4212-b932-7ff1d619a4e1')\"\n",
              "              title=\"Convert this dataframe to an interactive table.\"\n",
              "              style=\"display:none;\">\n",
              "        \n",
              "  <svg xmlns=\"http://www.w3.org/2000/svg\" height=\"24px\"viewBox=\"0 0 24 24\"\n",
              "       width=\"24px\">\n",
              "    <path d=\"M0 0h24v24H0V0z\" fill=\"none\"/>\n",
              "    <path d=\"M18.56 5.44l.94 2.06.94-2.06 2.06-.94-2.06-.94-.94-2.06-.94 2.06-2.06.94zm-11 1L8.5 8.5l.94-2.06 2.06-.94-2.06-.94L8.5 2.5l-.94 2.06-2.06.94zm10 10l.94 2.06.94-2.06 2.06-.94-2.06-.94-.94-2.06-.94 2.06-2.06.94z\"/><path d=\"M17.41 7.96l-1.37-1.37c-.4-.4-.92-.59-1.43-.59-.52 0-1.04.2-1.43.59L10.3 9.45l-7.72 7.72c-.78.78-.78 2.05 0 2.83L4 21.41c.39.39.9.59 1.41.59.51 0 1.02-.2 1.41-.59l7.78-7.78 2.81-2.81c.8-.78.8-2.07 0-2.86zM5.41 20L4 18.59l7.72-7.72 1.47 1.35L5.41 20z\"/>\n",
              "  </svg>\n",
              "      </button>\n",
              "      \n",
              "  <style>\n",
              "    .colab-df-container {\n",
              "      display:flex;\n",
              "      flex-wrap:wrap;\n",
              "      gap: 12px;\n",
              "    }\n",
              "\n",
              "    .colab-df-convert {\n",
              "      background-color: #E8F0FE;\n",
              "      border: none;\n",
              "      border-radius: 50%;\n",
              "      cursor: pointer;\n",
              "      display: none;\n",
              "      fill: #1967D2;\n",
              "      height: 32px;\n",
              "      padding: 0 0 0 0;\n",
              "      width: 32px;\n",
              "    }\n",
              "\n",
              "    .colab-df-convert:hover {\n",
              "      background-color: #E2EBFA;\n",
              "      box-shadow: 0px 1px 2px rgba(60, 64, 67, 0.3), 0px 1px 3px 1px rgba(60, 64, 67, 0.15);\n",
              "      fill: #174EA6;\n",
              "    }\n",
              "\n",
              "    [theme=dark] .colab-df-convert {\n",
              "      background-color: #3B4455;\n",
              "      fill: #D2E3FC;\n",
              "    }\n",
              "\n",
              "    [theme=dark] .colab-df-convert:hover {\n",
              "      background-color: #434B5C;\n",
              "      box-shadow: 0px 1px 3px 1px rgba(0, 0, 0, 0.15);\n",
              "      filter: drop-shadow(0px 1px 2px rgba(0, 0, 0, 0.3));\n",
              "      fill: #FFFFFF;\n",
              "    }\n",
              "  </style>\n",
              "\n",
              "      <script>\n",
              "        const buttonEl =\n",
              "          document.querySelector('#df-0b59e1d1-4936-4212-b932-7ff1d619a4e1 button.colab-df-convert');\n",
              "        buttonEl.style.display =\n",
              "          google.colab.kernel.accessAllowed ? 'block' : 'none';\n",
              "\n",
              "        async function convertToInteractive(key) {\n",
              "          const element = document.querySelector('#df-0b59e1d1-4936-4212-b932-7ff1d619a4e1');\n",
              "          const dataTable =\n",
              "            await google.colab.kernel.invokeFunction('convertToInteractive',\n",
              "                                                     [key], {});\n",
              "          if (!dataTable) return;\n",
              "\n",
              "          const docLinkHtml = 'Like what you see? Visit the ' +\n",
              "            '<a target=\"_blank\" href=https://colab.research.google.com/notebooks/data_table.ipynb>data table notebook</a>'\n",
              "            + ' to learn more about interactive tables.';\n",
              "          element.innerHTML = '';\n",
              "          dataTable['output_type'] = 'display_data';\n",
              "          await google.colab.output.renderOutput(dataTable, element);\n",
              "          const docLink = document.createElement('div');\n",
              "          docLink.innerHTML = docLinkHtml;\n",
              "          element.appendChild(docLink);\n",
              "        }\n",
              "      </script>\n",
              "    </div>\n",
              "  </div>\n",
              "  "
            ],
            "text/plain": [
              "  Invoice StockCode                          Description  Quantity         InvoiceDate  Price  Customer ID         Country\n",
              "0  536365    85123A   WHITE HANGING HEART T-LIGHT HOLDER         6 2010-12-01 08:26:00   2.55      17850.0  United Kingdom\n",
              "1  536365     71053                  WHITE METAL LANTERN         6 2010-12-01 08:26:00   3.39      17850.0  United Kingdom\n",
              "2  536365    84406B       CREAM CUPID HEARTS COAT HANGER         8 2010-12-01 08:26:00   2.75      17850.0  United Kingdom\n",
              "3  536365    84029G  KNITTED UNION FLAG HOT WATER BOTTLE         6 2010-12-01 08:26:00   3.39      17850.0  United Kingdom\n",
              "4  536365    84029E       RED WOOLLY HOTTIE WHITE HEART.         6 2010-12-01 08:26:00   3.39      17850.0  United Kingdom"
            ]
          },
          "execution_count": 5,
          "metadata": {},
          "output_type": "execute_result"
        }
      ],
      "source": [
        "df_ = load_dataset('online_retail_II')\n",
        "df_.head()"
      ]
    },
    {
      "cell_type": "code",
      "execution_count": 6,
      "metadata": {
        "id": "Hevj83qcTtg5"
      },
      "outputs": [],
      "source": [
        "df = df_.copy()"
      ]
    },
    {
      "cell_type": "markdown",
      "metadata": {
        "id": "pDtHt9khU02z"
      },
      "source": [
        "\n",
        "## Data Preprocessing\n"
      ]
    },
    {
      "cell_type": "code",
      "execution_count": 7,
      "metadata": {
        "id": "0wTzrnAtWC8G"
      },
      "outputs": [],
      "source": [
        "def summary_data(df):\n",
        "    print(\"  Head   :\")\n",
        "    print(df.head())\n",
        "    print(\"  Shape   :\")\n",
        "    print(df.shape)\n",
        "    print(\"  Describe   :\")\n",
        "    print(df.quantile([0, 0.01, 0.05, 0.10, 0.25, 0.50, 0.75, 0.95, 0.99, 1]).T)\n",
        "    print(\"  Null   :\")\n",
        "    print(df.isnull().sum())\n",
        "    print(\"  Columns   :\")\n",
        "    print(df.columns)\n",
        "    print(\"  Duplicate   :\")\n",
        "    print(df.duplicated().sum())\n",
        "    print(\"  Index max   :\")\n",
        "    print(df.index.max())\n",
        "    print(\"  Info   :\")\n",
        "    print(df.info())\n"
      ]
    },
    {
      "cell_type": "code",
      "execution_count": 8,
      "metadata": {
        "id": "gTKXEv894ndX"
      },
      "outputs": [],
      "source": [
        "def replace_with_thresholds(dataframe, variable):\n",
        "    low_limit, up_limit = outlier_thresholds(dataframe, variable)\n",
        "    dataframe.loc[(dataframe[variable] < low_limit), variable] = low_limit\n",
        "    dataframe.loc[(dataframe[variable] > up_limit), variable] = up_limit\n",
        "\n",
        "\n",
        "def outlier_thresholds(dataframe, variable):\n",
        "    quartile1 = dataframe[variable].quantile(0.01)\n",
        "    quartile3 = dataframe[variable].quantile(0.99)\n",
        "    interquantile_range = quartile3 - quartile1\n",
        "    up_limit = quartile3 + 1.5 * interquantile_range\n",
        "    low_limit = quartile1 - 1.5 * interquantile_range\n",
        "    return low_limit, up_limit"
      ]
    },
    {
      "cell_type": "code",
      "execution_count": 9,
      "metadata": {
        "id": "wRa9RHBaTuqO"
      },
      "outputs": [],
      "source": [
        "def retail_data_prep(dataframe):\n",
        "    dataframe.dropna(inplace=True)\n",
        "    # dataframe = dataframe[~dataframe[\"Invoice\"].str.contains(\"C\", na=False)]\n",
        "    dataframe = dataframe[~dataframe[\"Invoice\"].str.contains(r\"[a-zA-Z]+\", na=False)]\n",
        "    dataframe = dataframe[~dataframe[\"StockCode\"].str.contains(r\"^[A-Za-z]+\", na=False)]    # POST and Manuel excluded but others stayed like 16168M \n",
        "    dataframe = dataframe[dataframe[\"Quantity\"] > 0]\n",
        "    dataframe = dataframe[dataframe[\"Price\"] > 0]\n",
        "    replace_with_thresholds(dataframe, \"Quantity\")\n",
        "    replace_with_thresholds(dataframe, \"Price\")\n",
        "    return dataframe"
      ]
    },
    {
      "cell_type": "markdown",
      "metadata": {
        "id": "8YDSR8UkC4m5"
      },
      "source": [
        "There is 38 different country in the dataset. Every country has own stracture. We can segment these countries with their characteristics or choose one them. Because when you give a transactional data to the apriori algorithm, that transforms to the matrix form and calculates the relationship between the products and a lot of data slows down the process.\n",
        "\n",
        "\n",
        "* We are going to choose the country in this project\n"
      ]
    },
    {
      "cell_type": "code",
      "execution_count": 10,
      "metadata": {
        "colab": {
          "base_uri": "https://localhost:8080/"
        },
        "id": "MDQQlFMZAYHc",
        "outputId": "76ccf28d-a807-45f0-9f26-d76cc0a3f574"
      },
      "outputs": [
        {
          "data": {
            "text/plain": [
              "38"
            ]
          },
          "execution_count": 10,
          "metadata": {},
          "output_type": "execute_result"
        }
      ],
      "source": [
        "df[\"Country\"].value_counts().count()"
      ]
    },
    {
      "cell_type": "code",
      "execution_count": 11,
      "metadata": {
        "colab": {
          "base_uri": "https://localhost:8080/"
        },
        "id": "PfeQSBpnT9Et",
        "outputId": "929b5ce7-1420-4e8a-de37-dff99bbd13c1"
      },
      "outputs": [
        {
          "name": "stdout",
          "output_type": "stream",
          "text": [
            "Select a country for aprioriGermany\n"
          ]
        }
      ],
      "source": [
        "Country = input(\"Select a country for apriori\").capitalize()\n",
        "df_Country = df[df[\"Country\"] == Country]"
      ]
    },
    {
      "cell_type": "markdown",
      "metadata": {
        "id": "Pp88-1nsVCqx"
      },
      "source": [
        "When we looked our \"summary_data\" function, saw outlier, negative values in the numeric variables and some anomalies in the invoice and stock code variables. \n",
        "\n",
        "1. We know with our business information if invoice variable contains \"C\" in the begining of the variable, it means the product has been returned. In this point, we have to remove this products from the invoice. We try to more generalizable this stage and removed all of the letter contain products.\n",
        "\n",
        "2. We know that stock code can contain letters but not all letters. Then again for being generalizable, we used regular expression to exclude this type of stock codes like POST and Manuel.\n",
        "\n",
        "3. Quantity and Price variables cant contain negative values, these negative values removed.\n",
        "\n",
        "4. When we look at the Quantity and Price variables quantiles, we can see extreme values are exist. These extreme values excluded from the dataset. "
      ]
    },
    {
      "cell_type": "code",
      "execution_count": 12,
      "metadata": {
        "colab": {
          "base_uri": "https://localhost:8080/"
        },
        "id": "KGPdnbCdWvaN",
        "outputId": "edc932a7-9428-47b0-c26a-fc7fb9ce92d2"
      },
      "outputs": [
        {
          "name": "stdout",
          "output_type": "stream",
          "text": [
            "  Head   :\n",
            "     Invoice StockCode                          Description  Quantity         InvoiceDate  Price  Customer ID  Country\n",
            "1109  536527     22809              SET OF 6 T-LIGHTS SANTA         6 2010-12-01 13:04:00   2.95      12662.0  Germany\n",
            "1110  536527     84347  ROTATING SILVER ANGELS T-LIGHT HLDR         6 2010-12-01 13:04:00   2.55      12662.0  Germany\n",
            "1111  536527     84945   MULTI COLOUR SILVER T-LIGHT HOLDER        12 2010-12-01 13:04:00   0.85      12662.0  Germany\n",
            "1112  536527     22242        5 HOOK HANGER MAGIC TOADSTOOL        12 2010-12-01 13:04:00   1.65      12662.0  Germany\n",
            "1113  536527     22244           3 HOOK HANGER MAGIC GARDEN        12 2010-12-01 13:04:00   1.95      12662.0  Germany\n",
            "  Shape   :\n",
            "(9495, 8)\n",
            "  Describe   :\n",
            "                0.00      0.01      0.05      0.10      0.25      0.50      0.75      0.95     0.99     1.00\n",
            "Quantity      -288.0     -4.00      1.00      2.00      5.00     10.00     12.00     32.00     75.0    600.0\n",
            "Price            0.0      0.21      0.42      0.55      1.25      1.95      3.75     12.75     18.0    599.5\n",
            "Customer ID  12426.0  12468.00  12471.00  12472.00  12480.00  12592.00  12662.00  13811.00  13816.0  14335.0\n",
            "  Null   :\n",
            "Invoice        0\n",
            "StockCode      0\n",
            "Description    0\n",
            "Quantity       0\n",
            "InvoiceDate    0\n",
            "Price          0\n",
            "Customer ID    0\n",
            "Country        0\n",
            "dtype: int64\n",
            "  Columns   :\n",
            "Index(['Invoice', 'StockCode', 'Description', 'Quantity', 'InvoiceDate', 'Price', 'Customer ID', 'Country'], dtype='object')\n",
            "  Duplicate   :\n",
            "15\n",
            "  Index max   :\n",
            "541805\n",
            "  Info   :\n",
            "<class 'pandas.core.frame.DataFrame'>\n",
            "Int64Index: 9495 entries, 1109 to 541805\n",
            "Data columns (total 8 columns):\n",
            " #   Column       Non-Null Count  Dtype         \n",
            "---  ------       --------------  -----         \n",
            " 0   Invoice      9495 non-null   object        \n",
            " 1   StockCode    9495 non-null   object        \n",
            " 2   Description  9495 non-null   object        \n",
            " 3   Quantity     9495 non-null   int64         \n",
            " 4   InvoiceDate  9495 non-null   datetime64[ns]\n",
            " 5   Price        9495 non-null   float64       \n",
            " 6   Customer ID  9495 non-null   float64       \n",
            " 7   Country      9495 non-null   object        \n",
            "dtypes: datetime64[ns](1), float64(2), int64(1), object(4)\n",
            "memory usage: 667.6+ KB\n",
            "None\n"
          ]
        }
      ],
      "source": [
        "summary_data(df_Country)"
      ]
    },
    {
      "cell_type": "markdown",
      "metadata": {
        "id": "UxFURzoH6fMO"
      },
      "source": [
        "After the cleaning, we lost more than 800 data but most of them because of the returned products."
      ]
    },
    {
      "cell_type": "code",
      "execution_count": 13,
      "metadata": {
        "colab": {
          "base_uri": "https://localhost:8080/"
        },
        "id": "fJ16n2ddW7_F",
        "outputId": "5d3fed9f-6a37-44c3-fd43-bc841811072f"
      },
      "outputs": [
        {
          "name": "stdout",
          "output_type": "stream",
          "text": [
            "  Head   :\n",
            "     Invoice StockCode                          Description  Quantity         InvoiceDate  Price  Customer ID  Country\n",
            "1109  536527     22809              SET OF 6 T-LIGHTS SANTA       6.0 2010-12-01 13:04:00   2.95      12662.0  Germany\n",
            "1110  536527     84347  ROTATING SILVER ANGELS T-LIGHT HLDR       6.0 2010-12-01 13:04:00   2.55      12662.0  Germany\n",
            "1111  536527     84945   MULTI COLOUR SILVER T-LIGHT HOLDER      12.0 2010-12-01 13:04:00   0.85      12662.0  Germany\n",
            "1112  536527     22242        5 HOOK HANGER MAGIC TOADSTOOL      12.0 2010-12-01 13:04:00   1.65      12662.0  Germany\n",
            "1113  536527     22244           3 HOOK HANGER MAGIC GARDEN      12.0 2010-12-01 13:04:00   1.95      12662.0  Germany\n",
            "  Shape   :\n",
            "(8658, 8)\n",
            "  Describe   :\n",
            "                 0.00      0.01      0.05      0.10      0.25      0.50      0.75     0.95      0.99      1.00\n",
            "Quantity         1.00      1.00      2.00      3.00      6.00     12.00     12.00     36.0     96.00    238.50\n",
            "Price            0.04      0.21      0.42      0.55      1.25      1.65      3.25      8.5     12.75     31.56\n",
            "Customer ID  12426.00  12468.00  12471.00  12473.00  12480.00  12600.00  12662.00  13812.0  13816.00  14335.00\n",
            "  Null   :\n",
            "Invoice        0\n",
            "StockCode      0\n",
            "Description    0\n",
            "Quantity       0\n",
            "InvoiceDate    0\n",
            "Price          0\n",
            "Customer ID    0\n",
            "Country        0\n",
            "dtype: int64\n",
            "  Columns   :\n",
            "Index(['Invoice', 'StockCode', 'Description', 'Quantity', 'InvoiceDate', 'Price', 'Customer ID', 'Country'], dtype='object')\n",
            "  Duplicate   :\n",
            "15\n",
            "  Index max   :\n",
            "541805\n",
            "  Info   :\n",
            "<class 'pandas.core.frame.DataFrame'>\n",
            "Int64Index: 8658 entries, 1109 to 541805\n",
            "Data columns (total 8 columns):\n",
            " #   Column       Non-Null Count  Dtype         \n",
            "---  ------       --------------  -----         \n",
            " 0   Invoice      8658 non-null   object        \n",
            " 1   StockCode    8658 non-null   object        \n",
            " 2   Description  8658 non-null   object        \n",
            " 3   Quantity     8658 non-null   float64       \n",
            " 4   InvoiceDate  8658 non-null   datetime64[ns]\n",
            " 5   Price        8658 non-null   float64       \n",
            " 6   Customer ID  8658 non-null   float64       \n",
            " 7   Country      8658 non-null   object        \n",
            "dtypes: datetime64[ns](1), float64(3), object(4)\n",
            "memory usage: 608.8+ KB\n",
            "None\n"
          ]
        },
        {
          "name": "stderr",
          "output_type": "stream",
          "text": [
            "/usr/local/lib/python3.8/dist-packages/pandas/util/_decorators.py:311: SettingWithCopyWarning: \n",
            "A value is trying to be set on a copy of a slice from a DataFrame\n",
            "\n",
            "See the caveats in the documentation: https://pandas.pydata.org/pandas-docs/stable/user_guide/indexing.html#returning-a-view-versus-a-copy\n",
            "  return func(*args, **kwargs)\n"
          ]
        }
      ],
      "source": [
        "df_Country = retail_data_prep(df_Country)\n",
        "summary_data(df_Country)"
      ]
    },
    {
      "cell_type": "markdown",
      "metadata": {
        "id": "Trm1BkVe71tW"
      },
      "source": [
        "In the cleaning section, we wanted to clean some stock codes and used regular expression. I wanted to control in here, is it still contain some of the stock codes that include letter? Yes, we continue..\n"
      ]
    },
    {
      "cell_type": "code",
      "execution_count": 14,
      "metadata": {
        "colab": {
          "base_uri": "https://localhost:8080/",
          "height": 81
        },
        "id": "dG8jNdspv5MU",
        "outputId": "50a19bab-5f6d-49dc-dc30-30807cbf8b2d"
      },
      "outputs": [
        {
          "data": {
            "text/html": [
              "\n",
              "  <div id=\"df-944f1e2f-b58d-452e-bad4-ac7eb3c2d733\">\n",
              "    <div class=\"colab-df-container\">\n",
              "      <div>\n",
              "<style scoped>\n",
              "    .dataframe tbody tr th:only-of-type {\n",
              "        vertical-align: middle;\n",
              "    }\n",
              "\n",
              "    .dataframe tbody tr th {\n",
              "        vertical-align: top;\n",
              "    }\n",
              "\n",
              "    .dataframe thead th {\n",
              "        text-align: right;\n",
              "    }\n",
              "</style>\n",
              "<table border=\"1\" class=\"dataframe\">\n",
              "  <thead>\n",
              "    <tr style=\"text-align: right;\">\n",
              "      <th></th>\n",
              "      <th>Invoice</th>\n",
              "      <th>StockCode</th>\n",
              "      <th>Description</th>\n",
              "      <th>Quantity</th>\n",
              "      <th>InvoiceDate</th>\n",
              "      <th>Price</th>\n",
              "      <th>Customer ID</th>\n",
              "      <th>Country</th>\n",
              "    </tr>\n",
              "  </thead>\n",
              "  <tbody>\n",
              "    <tr>\n",
              "      <th>497798</th>\n",
              "      <td>578472</td>\n",
              "      <td>85123A</td>\n",
              "      <td>WHITE HANGING HEART T-LIGHT HOLDER</td>\n",
              "      <td>12.0</td>\n",
              "      <td>2011-11-24 12:40:00</td>\n",
              "      <td>2.95</td>\n",
              "      <td>12476.0</td>\n",
              "      <td>Germany</td>\n",
              "    </tr>\n",
              "  </tbody>\n",
              "</table>\n",
              "</div>\n",
              "      <button class=\"colab-df-convert\" onclick=\"convertToInteractive('df-944f1e2f-b58d-452e-bad4-ac7eb3c2d733')\"\n",
              "              title=\"Convert this dataframe to an interactive table.\"\n",
              "              style=\"display:none;\">\n",
              "        \n",
              "  <svg xmlns=\"http://www.w3.org/2000/svg\" height=\"24px\"viewBox=\"0 0 24 24\"\n",
              "       width=\"24px\">\n",
              "    <path d=\"M0 0h24v24H0V0z\" fill=\"none\"/>\n",
              "    <path d=\"M18.56 5.44l.94 2.06.94-2.06 2.06-.94-2.06-.94-.94-2.06-.94 2.06-2.06.94zm-11 1L8.5 8.5l.94-2.06 2.06-.94-2.06-.94L8.5 2.5l-.94 2.06-2.06.94zm10 10l.94 2.06.94-2.06 2.06-.94-2.06-.94-.94-2.06-.94 2.06-2.06.94z\"/><path d=\"M17.41 7.96l-1.37-1.37c-.4-.4-.92-.59-1.43-.59-.52 0-1.04.2-1.43.59L10.3 9.45l-7.72 7.72c-.78.78-.78 2.05 0 2.83L4 21.41c.39.39.9.59 1.41.59.51 0 1.02-.2 1.41-.59l7.78-7.78 2.81-2.81c.8-.78.8-2.07 0-2.86zM5.41 20L4 18.59l7.72-7.72 1.47 1.35L5.41 20z\"/>\n",
              "  </svg>\n",
              "      </button>\n",
              "      \n",
              "  <style>\n",
              "    .colab-df-container {\n",
              "      display:flex;\n",
              "      flex-wrap:wrap;\n",
              "      gap: 12px;\n",
              "    }\n",
              "\n",
              "    .colab-df-convert {\n",
              "      background-color: #E8F0FE;\n",
              "      border: none;\n",
              "      border-radius: 50%;\n",
              "      cursor: pointer;\n",
              "      display: none;\n",
              "      fill: #1967D2;\n",
              "      height: 32px;\n",
              "      padding: 0 0 0 0;\n",
              "      width: 32px;\n",
              "    }\n",
              "\n",
              "    .colab-df-convert:hover {\n",
              "      background-color: #E2EBFA;\n",
              "      box-shadow: 0px 1px 2px rgba(60, 64, 67, 0.3), 0px 1px 3px 1px rgba(60, 64, 67, 0.15);\n",
              "      fill: #174EA6;\n",
              "    }\n",
              "\n",
              "    [theme=dark] .colab-df-convert {\n",
              "      background-color: #3B4455;\n",
              "      fill: #D2E3FC;\n",
              "    }\n",
              "\n",
              "    [theme=dark] .colab-df-convert:hover {\n",
              "      background-color: #434B5C;\n",
              "      box-shadow: 0px 1px 3px 1px rgba(0, 0, 0, 0.15);\n",
              "      filter: drop-shadow(0px 1px 2px rgba(0, 0, 0, 0.3));\n",
              "      fill: #FFFFFF;\n",
              "    }\n",
              "  </style>\n",
              "\n",
              "      <script>\n",
              "        const buttonEl =\n",
              "          document.querySelector('#df-944f1e2f-b58d-452e-bad4-ac7eb3c2d733 button.colab-df-convert');\n",
              "        buttonEl.style.display =\n",
              "          google.colab.kernel.accessAllowed ? 'block' : 'none';\n",
              "\n",
              "        async function convertToInteractive(key) {\n",
              "          const element = document.querySelector('#df-944f1e2f-b58d-452e-bad4-ac7eb3c2d733');\n",
              "          const dataTable =\n",
              "            await google.colab.kernel.invokeFunction('convertToInteractive',\n",
              "                                                     [key], {});\n",
              "          if (!dataTable) return;\n",
              "\n",
              "          const docLinkHtml = 'Like what you see? Visit the ' +\n",
              "            '<a target=\"_blank\" href=https://colab.research.google.com/notebooks/data_table.ipynb>data table notebook</a>'\n",
              "            + ' to learn more about interactive tables.';\n",
              "          element.innerHTML = '';\n",
              "          dataTable['output_type'] = 'display_data';\n",
              "          await google.colab.output.renderOutput(dataTable, element);\n",
              "          const docLink = document.createElement('div');\n",
              "          docLink.innerHTML = docLinkHtml;\n",
              "          element.appendChild(docLink);\n",
              "        }\n",
              "      </script>\n",
              "    </div>\n",
              "  </div>\n",
              "  "
            ],
            "text/plain": [
              "       Invoice StockCode                         Description  Quantity         InvoiceDate  Price  Customer ID  Country\n",
              "497798  578472    85123A  WHITE HANGING HEART T-LIGHT HOLDER      12.0 2011-11-24 12:40:00   2.95      12476.0  Germany"
            ]
          },
          "execution_count": 14,
          "metadata": {},
          "output_type": "execute_result"
        }
      ],
      "source": [
        "df_Country[df_Country['StockCode'] == \"85123A\"]"
      ]
    },
    {
      "cell_type": "markdown",
      "metadata": {
        "id": "2Xbo2qy9-pVq"
      },
      "source": [
        "At this point, we will choose 3 stock codes and recommend products to people who will buy these products."
      ]
    },
    {
      "cell_type": "code",
      "execution_count": 15,
      "metadata": {
        "id": "58eJxxSHrQ0E"
      },
      "outputs": [],
      "source": [
        "User1 = 21987\n",
        "User2 = 23235\n",
        "User3 = 22747"
      ]
    },
    {
      "cell_type": "markdown",
      "metadata": {
        "id": "cMa7H_r9_Yvp"
      },
      "source": [
        "CheckID function gives us a description when we write the stock code.\n"
      ]
    },
    {
      "cell_type": "code",
      "execution_count": 16,
      "metadata": {
        "colab": {
          "base_uri": "https://localhost:8080/"
        },
        "id": "uN05Sp4RrPYD",
        "outputId": "1c226cb0-8451-4ebf-e79d-5b5062d995a2"
      },
      "outputs": [
        {
          "name": "stdout",
          "output_type": "stream",
          "text": [
            "['PACK OF 6 SKULL PAPER CUPS']\n"
          ]
        }
      ],
      "source": [
        "def CheckID(data, stock_code):\n",
        "    product_name = data[data[\"StockCode\"] == stock_code][[\"Description\"]].values[0].tolist()\n",
        "    print(product_name)\n",
        "\n",
        "CheckID(df_Country, User1)"
      ]
    },
    {
      "cell_type": "code",
      "execution_count": 17,
      "metadata": {
        "colab": {
          "base_uri": "https://localhost:8080/"
        },
        "id": "Vn8IpDLCrhyM",
        "outputId": "314e05ed-1832-4c64-b2a6-75b79da57b4a"
      },
      "outputs": [
        {
          "name": "stdout",
          "output_type": "stream",
          "text": [
            "['STORAGE TIN VINTAGE LEAF']\n"
          ]
        }
      ],
      "source": [
        "CheckID(df_Country, User2)"
      ]
    },
    {
      "cell_type": "code",
      "execution_count": 18,
      "metadata": {
        "colab": {
          "base_uri": "https://localhost:8080/"
        },
        "id": "25LLF_MUrlyN",
        "outputId": "7d0237d7-9c86-41d0-f1d0-38ee7aefdb6a"
      },
      "outputs": [
        {
          "name": "stdout",
          "output_type": "stream",
          "text": [
            "[\"POPPY'S PLAYHOUSE BATHROOM\"]\n"
          ]
        }
      ],
      "source": [
        "CheckID(df_Country, User3)"
      ]
    },
    {
      "cell_type": "markdown",
      "metadata": {
        "id": "dDLfD1Wu_3sl"
      },
      "source": [
        "## Preparation of Association Rules\n",
        "\n",
        "We can create an apriori algorithm for a stock code or product descripton. Before the aprioriRecommendation function, is created an appropriate table based on this selection. \n",
        "\n",
        "Need to transform the data as a one hot dataframe\n",
        "\n",
        "\n"
      ]
    },
    {
      "cell_type": "code",
      "execution_count": 19,
      "metadata": {
        "id": "71ikNM9aUJ71"
      },
      "outputs": [],
      "source": [
        "def invoiceProduct(data,product=True):\n",
        "    if product:\n",
        "        return data.pivot_table(index=\"Invoice\",columns=\"StockCode\",values=\"Quantity\").fillna(0).applymap(lambda x: 1 if x > 0 else 0)\n",
        "    else:\n",
        "        return data.pivot_table(index=\"Invoice\",columns=\"Description\",values=\"Quantity\").fillna(0).applymap(lambda x: 1 if x > 0 else 0)\n"
      ]
    },
    {
      "cell_type": "markdown",
      "metadata": {
        "id": "D_YPQPrxFvbQ"
      },
      "source": [
        "Apriori Algorithm has a min_support parameter which is a ratio of the item occur and total transaction number. This parameter's default value is 0.5 which is too much for some items then we change this value to 0.01.\n",
        "\n"
      ]
    },
    {
      "cell_type": "code",
      "execution_count": 20,
      "metadata": {
        "id": "mNFTzqd_UNH2"
      },
      "outputs": [],
      "source": [
        "def rules(data):\n",
        "    frequent_itemsets = apriori(data, min_support=0.01, use_colnames=True)\n",
        "    rules = association_rules(frequent_itemsets, metric=\"support\", min_threshold=0.01)\n",
        "    return rules"
      ]
    },
    {
      "cell_type": "markdown",
      "metadata": {
        "id": "PZG3l6cMKHO2"
      },
      "source": [
        "Apriori Algorithm returns a table with Antecedents, Consequents, Antecedent_Support, Consequents_Support, Support, Confidence, Lift, Leverage and Conviction metrics. These metrics:\n",
        "\n",
        "* Antecedents: An item (for this dataset is product) found in data. \n",
        "* Consequents: An item found in combination with the antecedent.\n",
        "* Antecedent_Support: Probability of antecedent's occurrence. \n",
        "* Consequents_Support: Probability of consequent's occurrence. \n",
        "* Support: Probability of antecedent and consequent's together occurrence.\n",
        "* Confidence: Probability of the items occurring together by the probability of antecedent's occurence. \n",
        "    (Support / Antecedent Support)\n",
        "* Lift: Proportion of the items occurring together and their expected probabilities. \n",
        "    (Support/(Antecedent_Support*Consequents_Support)) \n",
        "    This shows us that when the antecedent item is purchased, the probability of purchasing the   consequent item increases by lift.\n",
        "\n",
        "* Leverage: Correlation between item sets by comparing the support of item sets under independence assumption. \n",
        "    (Support-(Antecedent_Support*Consequents_Support))  \n",
        " Because of the difference in the formula, leverage favors item sets with higher support, while lift can find strong associations among less frequent item sets.\n",
        "* Conviction: Antecedent item's expected value without consequent item. \n",
        "    ((1-Support) / (1-Confidence)) \n",
        "\n",
        "\n",
        "\n",
        "\n",
        "\n"
      ]
    },
    {
      "cell_type": "code",
      "execution_count": 21,
      "metadata": {
        "colab": {
          "base_uri": "https://localhost:8080/",
          "height": 206
        },
        "id": "C1c6o8YLJb4W",
        "outputId": "f1094ce3-4ea3-4a3f-a0ec-88e9876a3b18"
      },
      "outputs": [
        {
          "data": {
            "text/html": [
              "\n",
              "  <div id=\"df-e93836f5-b72b-4a93-9403-206f23399b65\">\n",
              "    <div class=\"colab-df-container\">\n",
              "      <div>\n",
              "<style scoped>\n",
              "    .dataframe tbody tr th:only-of-type {\n",
              "        vertical-align: middle;\n",
              "    }\n",
              "\n",
              "    .dataframe tbody tr th {\n",
              "        vertical-align: top;\n",
              "    }\n",
              "\n",
              "    .dataframe thead th {\n",
              "        text-align: right;\n",
              "    }\n",
              "</style>\n",
              "<table border=\"1\" class=\"dataframe\">\n",
              "  <thead>\n",
              "    <tr style=\"text-align: right;\">\n",
              "      <th></th>\n",
              "      <th>antecedents</th>\n",
              "      <th>consequents</th>\n",
              "      <th>antecedent support</th>\n",
              "      <th>consequent support</th>\n",
              "      <th>support</th>\n",
              "      <th>confidence</th>\n",
              "      <th>lift</th>\n",
              "      <th>leverage</th>\n",
              "      <th>conviction</th>\n",
              "    </tr>\n",
              "  </thead>\n",
              "  <tbody>\n",
              "    <tr>\n",
              "      <th>0</th>\n",
              "      <td>(16237)</td>\n",
              "      <td>(22326)</td>\n",
              "      <td>0.011287</td>\n",
              "      <td>0.252822</td>\n",
              "      <td>0.011287</td>\n",
              "      <td>1.000000</td>\n",
              "      <td>3.955357</td>\n",
              "      <td>0.008433</td>\n",
              "      <td>inf</td>\n",
              "    </tr>\n",
              "    <tr>\n",
              "      <th>1</th>\n",
              "      <td>(22326)</td>\n",
              "      <td>(16237)</td>\n",
              "      <td>0.252822</td>\n",
              "      <td>0.011287</td>\n",
              "      <td>0.011287</td>\n",
              "      <td>0.044643</td>\n",
              "      <td>3.955357</td>\n",
              "      <td>0.008433</td>\n",
              "      <td>1.034915</td>\n",
              "    </tr>\n",
              "    <tr>\n",
              "      <th>2</th>\n",
              "      <td>(20674)</td>\n",
              "      <td>(20675)</td>\n",
              "      <td>0.022573</td>\n",
              "      <td>0.033860</td>\n",
              "      <td>0.013544</td>\n",
              "      <td>0.600000</td>\n",
              "      <td>17.720000</td>\n",
              "      <td>0.012780</td>\n",
              "      <td>2.415350</td>\n",
              "    </tr>\n",
              "    <tr>\n",
              "      <th>3</th>\n",
              "      <td>(20675)</td>\n",
              "      <td>(20674)</td>\n",
              "      <td>0.033860</td>\n",
              "      <td>0.022573</td>\n",
              "      <td>0.013544</td>\n",
              "      <td>0.400000</td>\n",
              "      <td>17.720000</td>\n",
              "      <td>0.012780</td>\n",
              "      <td>1.629044</td>\n",
              "    </tr>\n",
              "    <tr>\n",
              "      <th>4</th>\n",
              "      <td>(20674)</td>\n",
              "      <td>(20676)</td>\n",
              "      <td>0.022573</td>\n",
              "      <td>0.038375</td>\n",
              "      <td>0.011287</td>\n",
              "      <td>0.500000</td>\n",
              "      <td>13.029412</td>\n",
              "      <td>0.010420</td>\n",
              "      <td>1.923251</td>\n",
              "    </tr>\n",
              "  </tbody>\n",
              "</table>\n",
              "</div>\n",
              "      <button class=\"colab-df-convert\" onclick=\"convertToInteractive('df-e93836f5-b72b-4a93-9403-206f23399b65')\"\n",
              "              title=\"Convert this dataframe to an interactive table.\"\n",
              "              style=\"display:none;\">\n",
              "        \n",
              "  <svg xmlns=\"http://www.w3.org/2000/svg\" height=\"24px\"viewBox=\"0 0 24 24\"\n",
              "       width=\"24px\">\n",
              "    <path d=\"M0 0h24v24H0V0z\" fill=\"none\"/>\n",
              "    <path d=\"M18.56 5.44l.94 2.06.94-2.06 2.06-.94-2.06-.94-.94-2.06-.94 2.06-2.06.94zm-11 1L8.5 8.5l.94-2.06 2.06-.94-2.06-.94L8.5 2.5l-.94 2.06-2.06.94zm10 10l.94 2.06.94-2.06 2.06-.94-2.06-.94-.94-2.06-.94 2.06-2.06.94z\"/><path d=\"M17.41 7.96l-1.37-1.37c-.4-.4-.92-.59-1.43-.59-.52 0-1.04.2-1.43.59L10.3 9.45l-7.72 7.72c-.78.78-.78 2.05 0 2.83L4 21.41c.39.39.9.59 1.41.59.51 0 1.02-.2 1.41-.59l7.78-7.78 2.81-2.81c.8-.78.8-2.07 0-2.86zM5.41 20L4 18.59l7.72-7.72 1.47 1.35L5.41 20z\"/>\n",
              "  </svg>\n",
              "      </button>\n",
              "      \n",
              "  <style>\n",
              "    .colab-df-container {\n",
              "      display:flex;\n",
              "      flex-wrap:wrap;\n",
              "      gap: 12px;\n",
              "    }\n",
              "\n",
              "    .colab-df-convert {\n",
              "      background-color: #E8F0FE;\n",
              "      border: none;\n",
              "      border-radius: 50%;\n",
              "      cursor: pointer;\n",
              "      display: none;\n",
              "      fill: #1967D2;\n",
              "      height: 32px;\n",
              "      padding: 0 0 0 0;\n",
              "      width: 32px;\n",
              "    }\n",
              "\n",
              "    .colab-df-convert:hover {\n",
              "      background-color: #E2EBFA;\n",
              "      box-shadow: 0px 1px 2px rgba(60, 64, 67, 0.3), 0px 1px 3px 1px rgba(60, 64, 67, 0.15);\n",
              "      fill: #174EA6;\n",
              "    }\n",
              "\n",
              "    [theme=dark] .colab-df-convert {\n",
              "      background-color: #3B4455;\n",
              "      fill: #D2E3FC;\n",
              "    }\n",
              "\n",
              "    [theme=dark] .colab-df-convert:hover {\n",
              "      background-color: #434B5C;\n",
              "      box-shadow: 0px 1px 3px 1px rgba(0, 0, 0, 0.15);\n",
              "      filter: drop-shadow(0px 1px 2px rgba(0, 0, 0, 0.3));\n",
              "      fill: #FFFFFF;\n",
              "    }\n",
              "  </style>\n",
              "\n",
              "      <script>\n",
              "        const buttonEl =\n",
              "          document.querySelector('#df-e93836f5-b72b-4a93-9403-206f23399b65 button.colab-df-convert');\n",
              "        buttonEl.style.display =\n",
              "          google.colab.kernel.accessAllowed ? 'block' : 'none';\n",
              "\n",
              "        async function convertToInteractive(key) {\n",
              "          const element = document.querySelector('#df-e93836f5-b72b-4a93-9403-206f23399b65');\n",
              "          const dataTable =\n",
              "            await google.colab.kernel.invokeFunction('convertToInteractive',\n",
              "                                                     [key], {});\n",
              "          if (!dataTable) return;\n",
              "\n",
              "          const docLinkHtml = 'Like what you see? Visit the ' +\n",
              "            '<a target=\"_blank\" href=https://colab.research.google.com/notebooks/data_table.ipynb>data table notebook</a>'\n",
              "            + ' to learn more about interactive tables.';\n",
              "          element.innerHTML = '';\n",
              "          dataTable['output_type'] = 'display_data';\n",
              "          await google.colab.output.renderOutput(dataTable, element);\n",
              "          const docLink = document.createElement('div');\n",
              "          docLink.innerHTML = docLinkHtml;\n",
              "          element.appendChild(docLink);\n",
              "        }\n",
              "      </script>\n",
              "    </div>\n",
              "  </div>\n",
              "  "
            ],
            "text/plain": [
              "  antecedents consequents  antecedent support  consequent support   support  confidence       lift  leverage  conviction\n",
              "0     (16237)     (22326)            0.011287            0.252822  0.011287    1.000000   3.955357  0.008433         inf\n",
              "1     (22326)     (16237)            0.252822            0.011287  0.011287    0.044643   3.955357  0.008433    1.034915\n",
              "2     (20674)     (20675)            0.022573            0.033860  0.013544    0.600000  17.720000  0.012780    2.415350\n",
              "3     (20675)     (20674)            0.033860            0.022573  0.013544    0.400000  17.720000  0.012780    1.629044\n",
              "4     (20674)     (20676)            0.022573            0.038375  0.011287    0.500000  13.029412  0.010420    1.923251"
            ]
          },
          "execution_count": 21,
          "metadata": {},
          "output_type": "execute_result"
        }
      ],
      "source": [
        "rules(invoiceProduct(df_Country, product=True)).head()"
      ]
    },
    {
      "cell_type": "markdown",
      "metadata": {
        "id": "KC-yzuwqIi4Q"
      },
      "source": [
        "## Suggestion a product to the buyers.\n",
        "\n",
        "In the recommendation stage, we can manage different strategies by metrics. Generally, i like the lift metric which also gives items with low frequencies. \n",
        "\n",
        "We can filter before the recommendation using metrics by support, lift, confidence etc\n",
        "\n",
        "### Which product you recommed who buys a product 21987? \n",
        "**21987 = PACK OF 6 SKULL PAPER CUPS**\n"
      ]
    },
    {
      "cell_type": "code",
      "execution_count": 22,
      "metadata": {
        "id": "-PhA9UfCruf8"
      },
      "outputs": [],
      "source": [
        "User = User1"
      ]
    },
    {
      "cell_type": "markdown",
      "metadata": {
        "id": "0AJd8_uDfulc"
      },
      "source": [
        "The id of the most probability recommendation is **22029**\n"
      ]
    },
    {
      "cell_type": "code",
      "execution_count": 23,
      "metadata": {
        "colab": {
          "base_uri": "https://localhost:8080/"
        },
        "id": "LDoEWZWXUQIV",
        "outputId": "5cb4b119-33eb-41b4-c45c-16d3888f8fdb"
      },
      "outputs": [
        {
          "data": {
            "text/plain": [
              "[22029]"
            ]
          },
          "execution_count": 23,
          "metadata": {},
          "output_type": "execute_result"
        }
      ],
      "source": [
        "def aprioriRecommendation(data,count=1):\n",
        "    df_Country_inv_pro = invoiceProduct(df_Country, product=True)\n",
        "    Rules = rules(df_Country_inv_pro)\n",
        "    sorted_rules = Rules.sort_values(\"lift\", ascending=False)\n",
        "    recommendation_list = []\n",
        "    for i, product in sorted_rules[\"antecedents\"].items():\n",
        "        for j in list(product):\n",
        "            if j == User:\n",
        "                recommendation_list.append(list(sorted_rules.iloc[i][\"consequents\"]))\n",
        "    recommendation_list = list({item for item_list in recommendation_list for item in item_list})\n",
        "    return recommendation_list[:count]\n",
        "\n",
        "aprioriRecommendation(rules)"
      ]
    },
    {
      "cell_type": "code",
      "execution_count": 24,
      "metadata": {
        "colab": {
          "base_uri": "https://localhost:8080/"
        },
        "id": "NMPSHGZFURiF",
        "outputId": "987bb212-bbb4-4950-90a0-e716dcb8bd08"
      },
      "outputs": [
        {
          "name": "stdout",
          "output_type": "stream",
          "text": [
            "['SPACEBOY BIRTHDAY CARD']\n"
          ]
        }
      ],
      "source": [
        "for i in aprioriRecommendation(rules):\n",
        "    CheckID(df_Country, i)"
      ]
    },
    {
      "cell_type": "markdown",
      "metadata": {
        "id": "yMNZesBcgMP9"
      },
      "source": [
        "The first 3 id of the most probability recommendations are **22029, 20750, 22551**\n",
        "\n",
        "With these functions, we can choose how many products we want to recommend and see what the selections descriptions are."
      ]
    },
    {
      "cell_type": "code",
      "execution_count": 25,
      "metadata": {
        "colab": {
          "base_uri": "https://localhost:8080/"
        },
        "id": "UedJOCM14_Q0",
        "outputId": "e9d5cfba-7e3f-41db-a7f2-3025dd6a6fc5"
      },
      "outputs": [
        {
          "data": {
            "text/plain": [
              "[22029, 20750, 22551]"
            ]
          },
          "execution_count": 25,
          "metadata": {},
          "output_type": "execute_result"
        }
      ],
      "source": [
        "aprioriRecommendation(rules,count=3)"
      ]
    },
    {
      "cell_type": "code",
      "execution_count": 26,
      "metadata": {
        "colab": {
          "base_uri": "https://localhost:8080/"
        },
        "id": "vOZMDAJ55JkT",
        "outputId": "f26d81de-8bbf-454a-8cd5-15cb7188696d"
      },
      "outputs": [
        {
          "name": "stdout",
          "output_type": "stream",
          "text": [
            "['SPACEBOY BIRTHDAY CARD']\n",
            "['RED RETROSPOT MINI CASES']\n",
            "['PLASTERS IN TIN SPACEBOY']\n"
          ]
        }
      ],
      "source": [
        "for i in aprioriRecommendation(rules,count = 3):\n",
        "    CheckID(df_Country, i)"
      ]
    }
  ],
  "metadata": {
    "colab": {
      "collapsed_sections": [
        "0WE2Ra1BA1OA",
        "pDtHt9khU02z",
        "dDLfD1Wu_3sl"
      ],
      "provenance": []
    },
    "kernelspec": {
      "display_name": "Python 3",
      "name": "python3"
    },
    "language_info": {
      "name": "python"
    }
  },
  "nbformat": 4,
  "nbformat_minor": 0
}
